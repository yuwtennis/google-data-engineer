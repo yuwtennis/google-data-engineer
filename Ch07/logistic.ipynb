{
 "cells": [
  {
   "cell_type": "code",
   "execution_count": 7,
   "id": "1a456ff7-140b-4304-abcd-f448eff4dcb6",
   "metadata": {},
   "outputs": [],
   "source": [
    "# Static variables\n",
    "BUCKET='elite-caster-125113'"
   ]
  },
  {
   "cell_type": "code",
   "execution_count": 13,
   "id": "00d224a1-74af-4587-84b1-2bafd96d5519",
   "metadata": {},
   "outputs": [],
   "source": [
    "from pyspark.sql import SparkSession\n",
    "from pyspark.sql.dataframe import DataFrame\n",
    "spark = SparkSession\\\n",
    "  .builder \\\n",
    "  .appName(\"Lgistic regression w/ Spark ML\") \\\n",
    "  .getOrCreate()"
   ]
  },
  {
   "cell_type": "code",
   "execution_count": 14,
   "id": "bd6f1673-ab02-447e-aca1-27700c82527e",
   "metadata": {},
   "outputs": [],
   "source": [
    "from pyspark.mllib.classification import LogisticRegressionWithLBFGS\n",
    "from pyspark.mllib.regression import LabeledPoint"
   ]
  },
  {
   "cell_type": "code",
   "execution_count": 15,
   "id": "9a0a1404-8e48-4ef1-8efc-aedfd941f710",
   "metadata": {},
   "outputs": [
    {
     "name": "stderr",
     "output_type": "stream",
     "text": [
      "                                                                                \r"
     ]
    }
   ],
   "source": [
    "traindays: DataFrame = spark.read \\\n",
    "  .option(\"header\", \"true\") \\\n",
    "  .csv('gs://{}/flights/trainday.csv'.format(BUCKET))"
   ]
  },
  {
   "cell_type": "code",
   "execution_count": 20,
   "id": "c42b5748-84bb-4ad1-91e8-283362535167",
   "metadata": {},
   "outputs": [
    {
     "name": "stdout",
     "output_type": "stream",
     "text": [
      "root\n",
      " |-- FL_DATE: string (nullable = true)\n",
      " |-- is_train_day: string (nullable = true)\n",
      "\n"
     ]
    }
   ],
   "source": [
    "traindays.printSchema()"
   ]
  },
  {
   "cell_type": "code",
   "execution_count": 17,
   "id": "eb25cbd0-cdc2-4ed6-96da-dbb027ce3fc2",
   "metadata": {},
   "outputs": [],
   "source": [
    "# Register the dataframe as TempView for spark sql\n",
    "traindays.createOrReplaceTempView('traindays')"
   ]
  },
  {
   "cell_type": "code",
   "execution_count": 19,
   "id": "7fb2605c-160e-4f4b-9afc-51f704d046ec",
   "metadata": {},
   "outputs": [
    {
     "name": "stdout",
     "output_type": "stream",
     "text": [
      "+----------+------------+\n",
      "|   FL_DATE|is_train_day|\n",
      "+----------+------------+\n",
      "|2018-01-02|        True|\n",
      "|2018-01-03|        True|\n",
      "|2018-01-04|        True|\n",
      "|2018-01-05|        True|\n",
      "|2018-01-07|        True|\n",
      "+----------+------------+\n",
      "\n"
     ]
    }
   ],
   "source": [
    "spark.sql(\"SELECT * FROM traindays LIMIT 5\").show()"
   ]
  },
  {
   "cell_type": "code",
   "execution_count": 23,
   "id": "0bc91ffe-a4d3-41af-b0d8-8becaedf46b3",
   "metadata": {},
   "outputs": [],
   "source": [
    "from pyspark.sql.types import StringType, FloatType, StructType, StructField\n",
    "\n",
    "header = 'FL_DATE,OP_UNIQUE_CARRIER,OP_CARRIER_AIRLINE_ID,OP_CARRIER,OP_CARRIER_FL_NUM,ORIGIN_AIRPORT_ID,'\n",
    "header += 'ORIGIN_AIRPORT_SEQ_ID,ORIGIN_CITY_MARKET_ID,ORIGIN,DEST_AIRPORT_ID,'\n",
    "header += 'DEST_AIRPORT_SEQ_ID,DEST_CITY_MARKET_ID,DEST,CRS_DEP_TIME,DEP_TIME,'\n",
    "header += 'DEP_DELAY,TAXI_OUT,WHEELS_OFF,WHEELS_ON,TAXI_IN,'\n",
    "header += 'CRS_ARR_TIME,ARR_TIME,ARR_DELAY,CANCELLED,'\n",
    "header += 'CANCELLATION_CODE,DIVERTED,DISTANCE,DEP_AIRPORT_LAT,'\n",
    "header += 'DEP_AIRPORT_LON,DEP_AIRPORT_TZOFFSET,ARR_AIRPORT_LAT,ARR_AIRPORT_LON,'\n",
    "header += 'ARR_AIRPORT_TZOFFSET,EVENT,NOTIFY_TIME'\n",
    "\n",
    "def get_structfield(colname):\n",
    "    if colname in ['ARR_DELAY', 'DEP_DELAY', 'DISTANCE', 'TAXI_OUT']:\n",
    "        return StructField(colname, FloatType(), True)\n",
    "    else:\n",
    "        return StructField(colname, StringType(), True)\n",
    "\n",
    "\n",
    "schema = StructType([get_structfield(colname) for colname in header.split(',')])"
   ]
  },
  {
   "cell_type": "code",
   "execution_count": null,
   "id": "6b672c23-85ff-4485-b606-dbe17ce93435",
   "metadata": {},
   "outputs": [],
   "source": []
  }
 ],
 "metadata": {
  "kernelspec": {
   "display_name": "PySpark",
   "language": "python",
   "name": "pyspark"
  },
  "language_info": {
   "codemirror_mode": {
    "name": "ipython",
    "version": 3
   },
   "file_extension": ".py",
   "mimetype": "text/x-python",
   "name": "python",
   "nbconvert_exporter": "python",
   "pygments_lexer": "ipython3",
   "version": "3.8.15"
  }
 },
 "nbformat": 4,
 "nbformat_minor": 5
}
