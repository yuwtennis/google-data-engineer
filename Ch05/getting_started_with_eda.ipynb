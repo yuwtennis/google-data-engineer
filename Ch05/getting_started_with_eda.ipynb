{
 "cells": [
  {
   "cell_type": "markdown",
   "metadata": {},
   "source": [
    "# Getting started with exploratory data analysis"
   ]
  },
  {
   "cell_type": "markdown",
   "metadata": {},
   "source": [
    "## Install and import required libraries"
   ]
  },
  {
   "cell_type": "code",
   "execution_count": 1,
   "metadata": {},
   "outputs": [
    {
     "name": "stdout",
     "output_type": "stream",
     "text": [
      "Collecting sns\n",
      "  Downloading https://files.pythonhosted.org/packages/58/80/d5a2a12fae635474014e7e0c88959daab3bf815648250fbb7639dd02fe50/sns-0.1.tar.gz\n",
      "Building wheels for collected packages: sns\n",
      "  Running setup.py bdist_wheel for sns: started\n",
      "  Running setup.py bdist_wheel for sns: finished with status 'done'\n",
      "  Stored in directory: /content/.cache/pip/wheels/be/a5/d8/4390400ed430c8186a6af96dbb1cc7d0a00a5dee15d268b627\n",
      "Successfully built sns\n",
      "Installing collected packages: sns\n",
      "Successfully installed sns-0.1\n"
     ]
    }
   ],
   "source": [
    "%bash\n",
    "pip install sns"
   ]
  },
  {
   "cell_type": "markdown",
   "metadata": {},
   "source": [
    "### NOTE \n",
    "Run below cell whenever you restart the session"
   ]
  },
  {
   "cell_type": "code",
   "execution_count": 3,
   "metadata": {},
   "outputs": [],
   "source": [
    "import matplotlib.pyplot as plt\n",
    "import seaborn as sb\n",
    "import pandas as pd\n",
    "import numpy as np\n",
    "import google.datalab.bigquery as bq\n",
    "import google.datalab.storage as storage\n",
    "import warnings\n",
    "\n",
    "# Disable warnings\n",
    "warnings.filterwarnings('ignore')"
   ]
  },
  {
   "cell_type": "markdown",
   "metadata": {},
   "source": [
    "## Sampling data using bigquery"
   ]
  },
  {
   "cell_type": "markdown",
   "metadata": {},
   "source": [
    "First check total number of rows we have in our table."
   ]
  },
  {
   "cell_type": "code",
   "execution_count": 3,
   "metadata": {},
   "outputs": [
    {
     "data": {
      "text/html": [
       "\n",
       "    <div class=\"bqtv\" id=\"1_159089076576\"><table><tr><th>f0_</th></tr><tr><td>2209776</td></tr></table></div>\n",
       "    <br />(rows: 1, time: 0.6s,    17MB processed, job: job_d6ES48h8yjYVOWusxGSAs5cIEjUn)<br />\n",
       "    <script src=\"/static/components/requirejs/require.js\"></script>\n",
       "    <script>\n",
       "\n",
       "      require.config({\n",
       "        paths: {\n",
       "          base: '/static/base',\n",
       "          d3: '//cdnjs.cloudflare.com/ajax/libs/d3/3.4.13/d3',\n",
       "          plotly: 'https://cdn.plot.ly/plotly-1.5.1.min.js?noext',\n",
       "          jquery: '//ajax.googleapis.com/ajax/libs/jquery/2.0.0/jquery.min'\n",
       "        },\n",
       "        map: {\n",
       "          '*': {\n",
       "            datalab: 'nbextensions/gcpdatalab'\n",
       "          }\n",
       "        },\n",
       "        shim: {\n",
       "          plotly: {\n",
       "            deps: ['d3', 'jquery'],\n",
       "            exports: 'plotly'\n",
       "          }\n",
       "        }\n",
       "      });\n",
       "\n",
       "      require(['datalab/charting', 'datalab/element!1_159089076576', 'base/js/events',\n",
       "          'datalab/style!/nbextensions/gcpdatalab/charting.css'],\n",
       "        function(charts, dom, events) {\n",
       "          charts.render('gcharts', dom, events, 'table', [], {\"rows\": [{\"c\": [{\"v\": 2209776}]}], \"cols\": [{\"label\": \"f0_\", \"id\": \"f0_\", \"type\": \"number\"}]},\n",
       "            {\n",
       "              pageSize: 25,\n",
       "              cssClassNames:  {\n",
       "                tableRow: 'gchart-table-row',\n",
       "                headerRow: 'gchart-table-headerrow',\n",
       "                oddTableRow: 'gchart-table-oddrow',\n",
       "                selectedTableRow: 'gchart-table-selectedrow',\n",
       "                hoverTableRow: 'gchart-table-hoverrow',\n",
       "                tableCell: 'gchart-table-cell',\n",
       "                headerCell: 'gchart-table-headercell',\n",
       "                rowNumberCell: 'gchart-table-rownumcell'\n",
       "              }\n",
       "            },\n",
       "            {source_index: 0, fields: 'f0_', legacy: 'true'},\n",
       "            0,\n",
       "            1);\n",
       "        }\n",
       "      );\n",
       "    </script>\n",
       "  "
      ],
      "text/plain": [
       "QueryResultsTable job_d6ES48h8yjYVOWusxGSAs5cIEjUn"
      ]
     },
     "execution_count": 3,
     "metadata": {},
     "output_type": "execute_result"
    }
   ],
   "source": [
    "%bigquery execute -d standard\n",
    "SELECT COUNT(DEP_DELAY) FROM flights.simevents"
   ]
  },
  {
   "cell_type": "markdown",
   "metadata": {},
   "source": [
    "We will use [RAND](https://cloud.google.com/bigquery/docs/reference/standard-sql/functions-and-operators#rand) to get random sample from uniformely distributed dataset.\n",
    "Lets check how accurate the query is."
   ]
  },
  {
   "cell_type": "code",
   "execution_count": 71,
   "metadata": {},
   "outputs": [
    {
     "data": {
      "text/html": [
       "\n",
       "    <div class=\"bqtv\" id=\"17_158963264354\"><table><tr><th>f0_</th></tr><tr><td>22117</td></tr></table></div>\n",
       "    <br />(rows: 1, time: 0.4s,     0B processed, job: job_e_GorJ1nZFgcqhQR--GnlynQ0kN3)<br />\n",
       "    <script src=\"/static/components/requirejs/require.js\"></script>\n",
       "    <script>\n",
       "\n",
       "      require.config({\n",
       "        paths: {\n",
       "          base: '/static/base',\n",
       "          d3: '//cdnjs.cloudflare.com/ajax/libs/d3/3.4.13/d3',\n",
       "          plotly: 'https://cdn.plot.ly/plotly-1.5.1.min.js?noext',\n",
       "          jquery: '//ajax.googleapis.com/ajax/libs/jquery/2.0.0/jquery.min'\n",
       "        },\n",
       "        map: {\n",
       "          '*': {\n",
       "            datalab: 'nbextensions/gcpdatalab'\n",
       "          }\n",
       "        },\n",
       "        shim: {\n",
       "          plotly: {\n",
       "            deps: ['d3', 'jquery'],\n",
       "            exports: 'plotly'\n",
       "          }\n",
       "        }\n",
       "      });\n",
       "\n",
       "      require(['datalab/charting', 'datalab/element!17_158963264354', 'base/js/events',\n",
       "          'datalab/style!/nbextensions/gcpdatalab/charting.css'],\n",
       "        function(charts, dom, events) {\n",
       "          charts.render('gcharts', dom, events, 'table', [], {\"rows\": [{\"c\": [{\"v\": 22117}]}], \"cols\": [{\"label\": \"f0_\", \"id\": \"f0_\", \"type\": \"number\"}]},\n",
       "            {\n",
       "              pageSize: 25,\n",
       "              cssClassNames:  {\n",
       "                tableRow: 'gchart-table-row',\n",
       "                headerRow: 'gchart-table-headerrow',\n",
       "                oddTableRow: 'gchart-table-oddrow',\n",
       "                selectedTableRow: 'gchart-table-selectedrow',\n",
       "                hoverTableRow: 'gchart-table-hoverrow',\n",
       "                tableCell: 'gchart-table-cell',\n",
       "                headerCell: 'gchart-table-headercell',\n",
       "                rowNumberCell: 'gchart-table-rownumcell'\n",
       "              }\n",
       "            },\n",
       "            {source_index: 12, fields: 'f0_', legacy: 'true'},\n",
       "            0,\n",
       "            1);\n",
       "        }\n",
       "      );\n",
       "    </script>\n",
       "  "
      ],
      "text/plain": [
       "QueryResultsTable job_e_GorJ1nZFgcqhQR--GnlynQ0kN3"
      ]
     },
     "execution_count": 71,
     "metadata": {},
     "output_type": "execute_result"
    }
   ],
   "source": [
    "%bigquery execute -d standard \n",
    "SELECT COUNT(*) FROM flights.simevents WHERE RAND() < 0.01"
   ]
  },
  {
   "cell_type": "markdown",
   "metadata": {},
   "source": [
    "Looks quite accurate. Try with the code now.\n",
    "Our goal is to find the 30% chance of arrival delay is 15 min late. From chapter 3 that is departure delay of 10 min .\n",
    "Will look into more depth with arrival delay for datasets that has departure delay larger than 10 min."
   ]
  },
  {
   "cell_type": "code",
   "execution_count": 6,
   "metadata": {},
   "outputs": [
    {
     "data": {
      "text/html": [
       "<div>\n",
       "<style scoped>\n",
       "    .dataframe tbody tr th:only-of-type {\n",
       "        vertical-align: middle;\n",
       "    }\n",
       "\n",
       "    .dataframe tbody tr th {\n",
       "        vertical-align: top;\n",
       "    }\n",
       "\n",
       "    .dataframe thead th {\n",
       "        text-align: right;\n",
       "    }\n",
       "</style>\n",
       "<table border=\"1\" class=\"dataframe\">\n",
       "  <thead>\n",
       "    <tr style=\"text-align: right;\">\n",
       "      <th></th>\n",
       "      <th>ARR_DELAY</th>\n",
       "      <th>DEP_DELAY</th>\n",
       "    </tr>\n",
       "  </thead>\n",
       "  <tbody>\n",
       "    <tr>\n",
       "      <th>count</th>\n",
       "      <td>1696.000000</td>\n",
       "      <td>1703.000000</td>\n",
       "    </tr>\n",
       "    <tr>\n",
       "      <th>mean</th>\n",
       "      <td>-8.790094</td>\n",
       "      <td>-2.825602</td>\n",
       "    </tr>\n",
       "    <tr>\n",
       "      <th>std</th>\n",
       "      <td>14.193963</td>\n",
       "      <td>4.820954</td>\n",
       "    </tr>\n",
       "    <tr>\n",
       "      <th>min</th>\n",
       "      <td>-57.000000</td>\n",
       "      <td>-24.000000</td>\n",
       "    </tr>\n",
       "    <tr>\n",
       "      <th>25%</th>\n",
       "      <td>-17.000000</td>\n",
       "      <td>-6.000000</td>\n",
       "    </tr>\n",
       "    <tr>\n",
       "      <th>50%</th>\n",
       "      <td>-10.000000</td>\n",
       "      <td>-3.000000</td>\n",
       "    </tr>\n",
       "    <tr>\n",
       "      <th>75%</th>\n",
       "      <td>-2.000000</td>\n",
       "      <td>0.000000</td>\n",
       "    </tr>\n",
       "    <tr>\n",
       "      <th>max</th>\n",
       "      <td>118.000000</td>\n",
       "      <td>9.000000</td>\n",
       "    </tr>\n",
       "  </tbody>\n",
       "</table>\n",
       "</div>"
      ],
      "text/plain": [
       "         ARR_DELAY    DEP_DELAY\n",
       "count  1696.000000  1703.000000\n",
       "mean     -8.790094    -2.825602\n",
       "std      14.193963     4.820954\n",
       "min     -57.000000   -24.000000\n",
       "25%     -17.000000    -6.000000\n",
       "50%     -10.000000    -3.000000\n",
       "75%      -2.000000     0.000000\n",
       "max     118.000000     9.000000"
      ]
     },
     "execution_count": 6,
     "metadata": {},
     "output_type": "execute_result"
    }
   ],
   "source": [
    "# \n",
    "\n",
    "sql = \"\"\"\n",
    "SELECT ARR_DELAY, DEP_DELAY\n",
    "FROM `flights.fedtzcorr`\n",
    "WHERE DEP_DELAY > 10 AND RAND() < 0.01\n",
    "\"\"\"\n",
    "\n",
    "df = bq.Query(sql).execute().result().to_dataframe()\n",
    "df.describe()"
   ]
  },
  {
   "cell_type": "markdown",
   "metadata": {},
   "source": [
    "## Check probability distribution for arrival delay using violin plot."
   ]
  },
  {
   "cell_type": "code",
   "execution_count": 9,
   "metadata": {},
   "outputs": [
    {
     "data": {
      "image/png": "[encoded data removed]",
      "text/plain": [
       "<matplotlib.figure.Figure at 0x7f9ef798dbe0>"
      ]
     },
     "metadata": {},
     "output_type": "display_data"
    }
   ],
   "source": [
    "sb.set_style(\"whitegrid\")\n",
    "ax = sb.violinplot(data=df, x='ARR_DELAY', inner='box', orient='h')"
   ]
  },
  {
   "cell_type": "markdown",
   "metadata": {},
   "source": [
    "## Explore arrival delays\n",
    "Here, I will compare the probability for arrival delay between datasets that has less than 10 min delay and more than 10 min delay."
   ]
  },
  {
   "cell_type": "code",
   "execution_count": 4,
   "metadata": {},
   "outputs": [
    {
     "data": {
      "text/plain": [
       "(-50, 200)"
      ]
     },
     "execution_count": 4,
     "metadata": {},
     "output_type": "execute_result"
    },
    {
     "data": {
      "image/png": "[encoded data removed]",
      "text/plain": [
       "<matplotlib.figure.Figure at 0x7f387c21b438>"
      ]
     },
     "metadata": {},
     "output_type": "display_data"
    }
   ],
   "source": [
    "# Pull random 1% sample from the dataset\n",
    "\n",
    "sql = \"\"\"\n",
    "SELECT ARR_DELAY, DEP_DELAY\n",
    "FROM `flights.fedtzcorr`\n",
    "WHERE RAND() < 0.001\n",
    "\"\"\"\n",
    "\n",
    "df = bq.Query(sql).execute().result().to_dataframe()\n",
    "\n",
    "# Threshold comparison will be done in the code.\n",
    "# Mark column \"ontime\" as TRUE when the departure delay is less than 10 min\n",
    "df['ontime'] = df['DEP_DELAY'] < 10\n",
    "\n",
    "sb.set_style(\"whitegrid\")\n",
    "ax = sb.violinplot(data=df, x='ARR_DELAY', y='ontime', inner='box', orient='h', gridsize=1000)\n",
    "ax.set_xlim(-50, 200)"
   ]
  },
  {
   "cell_type": "markdown",
   "metadata": {},
   "source": [
    "## Add quality control\n",
    "Here, I will explore how arrival delays are distributed against departure delay."
   ]
  },
  {
   "cell_type": "code",
   "execution_count": 26,
   "metadata": {},
   "outputs": [
    {
     "data": {
      "text/html": [
       "\n",
       "    <div class=\"bqtv\" id=\"2_159096612100\"><table><tr><th>dep_delay_in_minutes</th><th>arrival_delay_in_minutes</th><th>numflights</th><th>max</th></tr><tr><td>&nbsp;</td><td>-9.70798319327731</td><td>952</td><td>&nbsp;</td></tr><tr><td>-50.0</td><td>-38.0</td><td>2</td><td>-50.0</td></tr><tr><td>-49.0</td><td>-59.5</td><td>4</td><td>-49.0</td></tr><tr><td>-46.0</td><td>-28.5</td><td>4</td><td>-46.0</td></tr><tr><td>-45.0</td><td>-44.0</td><td>4</td><td>-45.0</td></tr><tr><td>-43.0</td><td>-53.0</td><td>4</td><td>-43.0</td></tr><tr><td>-42.0</td><td>-35.0</td><td>6</td><td>-42.0</td></tr><tr><td>-40.0</td><td>-26.0</td><td>4</td><td>-40.0</td></tr><tr><td>-39.0</td><td>-33.5</td><td>4</td><td>-39.0</td></tr><tr><td>-38.0</td><td>-21.5</td><td>4</td><td>-38.0</td></tr><tr><td>-37.0</td><td>-37.666666666666664</td><td>12</td><td>-37.0</td></tr><tr><td>-36.0</td><td>-35.0</td><td>2</td><td>-36.0</td></tr><tr><td>-35.0</td><td>-32.57142857142857</td><td>14</td><td>-35.0</td></tr><tr><td>-34.0</td><td>-30.0</td><td>18</td><td>-34.0</td></tr><tr><td>-33.0</td><td>-26.200000000000003</td><td>10</td><td>-33.0</td></tr><tr><td>-32.0</td><td>-34.8</td><td>10</td><td>-32.0</td></tr><tr><td>-31.0</td><td>-28.769230769230766</td><td>26</td><td>-31.0</td></tr><tr><td>-30.0</td><td>-34.93749999999999</td><td>32</td><td>-30.0</td></tr><tr><td>-29.0</td><td>-31.375000000000004</td><td>48</td><td>-29.0</td></tr><tr><td>-28.0</td><td>-24.857142857142854</td><td>70</td><td>-28.0</td></tr><tr><td>-27.0</td><td>-28.837209302325583</td><td>86</td><td>-27.0</td></tr><tr><td>-26.0</td><td>-27.555555555555554</td><td>108</td><td>-26.0</td></tr><tr><td>-25.0</td><td>-27.44</td><td>150</td><td>-25.0</td></tr><tr><td>-24.0</td><td>-25.989583333333332</td><td>192</td><td>-24.0</td></tr><tr><td>-23.0</td><td>-26.491666666666674</td><td>240</td><td>-23.0</td></tr></table></div>\n",
       "    <br />(rows: 969, time: 0.8s,    26MB processed, job: job_kPV15vXl1Q2R8GlmTHGeUfhzp-Yu)<br />\n",
       "    <script src=\"/static/components/requirejs/require.js\"></script>\n",
       "    <script>\n",
       "\n",
       "      require.config({\n",
       "        paths: {\n",
       "          base: '/static/base',\n",
       "          d3: '//cdnjs.cloudflare.com/ajax/libs/d3/3.4.13/d3',\n",
       "          plotly: 'https://cdn.plot.ly/plotly-1.5.1.min.js?noext',\n",
       "          jquery: '//ajax.googleapis.com/ajax/libs/jquery/2.0.0/jquery.min'\n",
       "        },\n",
       "        map: {\n",
       "          '*': {\n",
       "            datalab: 'nbextensions/gcpdatalab'\n",
       "          }\n",
       "        },\n",
       "        shim: {\n",
       "          plotly: {\n",
       "            deps: ['d3', 'jquery'],\n",
       "            exports: 'plotly'\n",
       "          }\n",
       "        }\n",
       "      });\n",
       "\n",
       "      require(['datalab/charting', 'datalab/element!2_159096612100', 'base/js/events',\n",
       "          'datalab/style!/nbextensions/gcpdatalab/charting.css'],\n",
       "        function(charts, dom, events) {\n",
       "          charts.render('gcharts', dom, events, 'paged_table', [], {\"cols\": [{\"label\": \"dep_delay_in_minutes\", \"type\": \"number\", \"id\": \"dep_delay_in_minutes\"}, {\"label\": \"arrival_delay_in_minutes\", \"type\": \"number\", \"id\": \"arrival_delay_in_minutes\"}, {\"label\": \"numflights\", \"type\": \"number\", \"id\": \"numflights\"}, {\"label\": \"max\", \"type\": \"number\", \"id\": \"max\"}], \"rows\": [{\"c\": [{\"v\": null}, {\"v\": -9.70798319327731}, {\"v\": 952}, {\"v\": null}]}, {\"c\": [{\"v\": -50.0}, {\"v\": -38.0}, {\"v\": 2}, {\"v\": -50.0}]}, {\"c\": [{\"v\": -49.0}, {\"v\": -59.5}, {\"v\": 4}, {\"v\": -49.0}]}, {\"c\": [{\"v\": -46.0}, {\"v\": -28.5}, {\"v\": 4}, {\"v\": -46.0}]}, {\"c\": [{\"v\": -45.0}, {\"v\": -44.0}, {\"v\": 4}, {\"v\": -45.0}]}, {\"c\": [{\"v\": -43.0}, {\"v\": -53.0}, {\"v\": 4}, {\"v\": -43.0}]}, {\"c\": [{\"v\": -42.0}, {\"v\": -35.0}, {\"v\": 6}, {\"v\": -42.0}]}, {\"c\": [{\"v\": -40.0}, {\"v\": -26.0}, {\"v\": 4}, {\"v\": -40.0}]}, {\"c\": [{\"v\": -39.0}, {\"v\": -33.5}, {\"v\": 4}, {\"v\": -39.0}]}, {\"c\": [{\"v\": -38.0}, {\"v\": -21.5}, {\"v\": 4}, {\"v\": -38.0}]}, {\"c\": [{\"v\": -37.0}, {\"v\": -37.666666666666664}, {\"v\": 12}, {\"v\": -37.0}]}, {\"c\": [{\"v\": -36.0}, {\"v\": -35.0}, {\"v\": 2}, {\"v\": -36.0}]}, {\"c\": [{\"v\": -35.0}, {\"v\": -32.57142857142857}, {\"v\": 14}, {\"v\": -35.0}]}, {\"c\": [{\"v\": -34.0}, {\"v\": -30.0}, {\"v\": 18}, {\"v\": -34.0}]}, {\"c\": [{\"v\": -33.0}, {\"v\": -26.200000000000003}, {\"v\": 10}, {\"v\": -33.0}]}, {\"c\": [{\"v\": -32.0}, {\"v\": -34.8}, {\"v\": 10}, {\"v\": -32.0}]}, {\"c\": [{\"v\": -31.0}, {\"v\": -28.769230769230766}, {\"v\": 26}, {\"v\": -31.0}]}, {\"c\": [{\"v\": -30.0}, {\"v\": -34.93749999999999}, {\"v\": 32}, {\"v\": -30.0}]}, {\"c\": [{\"v\": -29.0}, {\"v\": -31.375000000000004}, {\"v\": 48}, {\"v\": -29.0}]}, {\"c\": [{\"v\": -28.0}, {\"v\": -24.857142857142854}, {\"v\": 70}, {\"v\": -28.0}]}, {\"c\": [{\"v\": -27.0}, {\"v\": -28.837209302325583}, {\"v\": 86}, {\"v\": -27.0}]}, {\"c\": [{\"v\": -26.0}, {\"v\": -27.555555555555554}, {\"v\": 108}, {\"v\": -26.0}]}, {\"c\": [{\"v\": -25.0}, {\"v\": -27.44}, {\"v\": 150}, {\"v\": -25.0}]}, {\"c\": [{\"v\": -24.0}, {\"v\": -25.989583333333332}, {\"v\": 192}, {\"v\": -24.0}]}, {\"c\": [{\"v\": -23.0}, {\"v\": -26.491666666666674}, {\"v\": 240}, {\"v\": -23.0}]}]},\n",
       "            {\n",
       "              pageSize: 25,\n",
       "              cssClassNames:  {\n",
       "                tableRow: 'gchart-table-row',\n",
       "                headerRow: 'gchart-table-headerrow',\n",
       "                oddTableRow: 'gchart-table-oddrow',\n",
       "                selectedTableRow: 'gchart-table-selectedrow',\n",
       "                hoverTableRow: 'gchart-table-hoverrow',\n",
       "                tableCell: 'gchart-table-cell',\n",
       "                headerCell: 'gchart-table-headercell',\n",
       "                rowNumberCell: 'gchart-table-rownumcell'\n",
       "              }\n",
       "            },\n",
       "            {source_index: 1, fields: 'dep_delay_in_minutes,arrival_delay_in_minutes,numflights,max', legacy: 'true'},\n",
       "            0,\n",
       "            969);\n",
       "        }\n",
       "      );\n",
       "    </script>\n",
       "  "
      ],
      "text/plain": [
       "QueryResultsTable job_kPV15vXl1Q2R8GlmTHGeUfhzp-Yu"
      ]
     },
     "execution_count": 26,
     "metadata": {},
     "output_type": "execute_result"
    }
   ],
   "source": [
    "%bigquery execute -d standard\n",
    "SELECT\n",
    "  DEP_DELAY as dep_delay_in_minutes,\n",
    "  AVG(ARR_DELAY) AS arrival_delay_in_minutes,\n",
    "  COUNT(ARR_DELAY) AS numflights,\n",
    "FROM flights.simevents\n",
    "GROUP BY DEP_DELAY\n",
    "ORDER BY DEP_DELAY"
   ]
  },
  {
   "cell_type": "code",
   "execution_count": 27,
   "metadata": {},
   "outputs": [
    {
     "data": {
      "text/html": [
       "\n",
       "    <div class=\"bqtv\" id=\"3_159096620816\"><table><tr><th>dep</th></tr><tr><td>2007.0</td></tr></table></div>\n",
       "    <br />(rows: 1, time: 0.7s,    17MB processed, job: job_X2o9IqpFupg45cC4NvI4ryxEm8UM)<br />\n",
       "    <script src=\"/static/components/requirejs/require.js\"></script>\n",
       "    <script>\n",
       "\n",
       "      require.config({\n",
       "        paths: {\n",
       "          base: '/static/base',\n",
       "          d3: '//cdnjs.cloudflare.com/ajax/libs/d3/3.4.13/d3',\n",
       "          plotly: 'https://cdn.plot.ly/plotly-1.5.1.min.js?noext',\n",
       "          jquery: '//ajax.googleapis.com/ajax/libs/jquery/2.0.0/jquery.min'\n",
       "        },\n",
       "        map: {\n",
       "          '*': {\n",
       "            datalab: 'nbextensions/gcpdatalab'\n",
       "          }\n",
       "        },\n",
       "        shim: {\n",
       "          plotly: {\n",
       "            deps: ['d3', 'jquery'],\n",
       "            exports: 'plotly'\n",
       "          }\n",
       "        }\n",
       "      });\n",
       "\n",
       "      require(['datalab/charting', 'datalab/element!3_159096620816', 'base/js/events',\n",
       "          'datalab/style!/nbextensions/gcpdatalab/charting.css'],\n",
       "        function(charts, dom, events) {\n",
       "          charts.render('gcharts', dom, events, 'table', [], {\"cols\": [{\"label\": \"dep\", \"type\": \"number\", \"id\": \"dep\"}], \"rows\": [{\"c\": [{\"v\": 2007.0}]}]},\n",
       "            {\n",
       "              pageSize: 25,\n",
       "              cssClassNames:  {\n",
       "                tableRow: 'gchart-table-row',\n",
       "                headerRow: 'gchart-table-headerrow',\n",
       "                oddTableRow: 'gchart-table-oddrow',\n",
       "                selectedTableRow: 'gchart-table-selectedrow',\n",
       "                hoverTableRow: 'gchart-table-hoverrow',\n",
       "                tableCell: 'gchart-table-cell',\n",
       "                headerCell: 'gchart-table-headercell',\n",
       "                rowNumberCell: 'gchart-table-rownumcell'\n",
       "              }\n",
       "            },\n",
       "            {source_index: 2, fields: 'dep', legacy: 'true'},\n",
       "            0,\n",
       "            1);\n",
       "        }\n",
       "      );\n",
       "    </script>\n",
       "  "
      ],
      "text/plain": [
       "QueryResultsTable job_X2o9IqpFupg45cC4NvI4ryxEm8UM"
      ]
     },
     "execution_count": 27,
     "metadata": {},
     "output_type": "execute_result"
    }
   ],
   "source": [
    "%bigquery execute -d standard\n",
    "SELECT\n",
    "  MAX(DEP_DELAY) AS dep,\n",
    "FROM flights.simevents"
   ]
  },
  {
   "cell_type": "code",
   "execution_count": 53,
   "metadata": {},
   "outputs": [
    {
     "data": {
      "image/png": "[encoded data removed]",
      "text/plain": [
       "<matplotlib.figure.Figure at 0x7f82c40c0d68>"
      ]
     },
     "metadata": {},
     "output_type": "display_data"
    }
   ],
   "source": [
    "sql=\"\"\"\n",
    "SELECT\n",
    "  DEP_DELAY as dep_delay_in_minutes,\n",
    "  AVG(ARR_DELAY) AS arrival_delay_in_minutes,\n",
    "  COUNT(ARR_DELAY) AS numflights\n",
    "FROM flights.simevents\n",
    "WHERE DEP_DELAY IS NOT NULL\n",
    "GROUP BY DEP_DELAY\n",
    "ORDER BY DEP_DELAY\n",
    "\"\"\"\n",
    "\n",
    "df = bq.Query(sql).execute().result().to_dataframe()\n",
    "\n",
    "# By bar in pyplot\n",
    "plt.figure(figsize=(30.0,5.0))\n",
    "plt.bar(df['dep_delay_in_minutes'], df['numflights'])\n",
    "plt.xticks(np.arange(-50, 2000, step=100),rotation=45)\n",
    "\n",
    "# Seaborn barplot\n",
    "#ax = sb.barplot(data=df, x='dep_delay_in_minutes', y='numflights', order=df['dep_delay_in_minutes'])\n",
    "#ax.set_xlim(0.0, )\n",
    "#ax.figure.set_figwidth(30)\n",
    "\n",
    "# Set properties\n",
    "#labels = ax.get_xticklabels()\n",
    "#plt.setp(labels,rotation=45)\n",
    "\n",
    "# Adjust xtick frequency\n",
    "#plt.xticks(np.arange(df['dep_delay_in_minutes'].min(), df['dep_delay_in_minutes'].max()+1, 50.0))\n",
    "\n",
    "plt.show()"
   ]
  },
  {
   "cell_type": "markdown",
   "metadata": {},
   "source": [
    "## Find oddball values and outliers\n",
    "It is obvious that most of departure time has few number of flights which means these are odd values (outliers).   \n",
    "To have accurate data model , I will need to exclude the ouliers .  \n",
    "\n",
    "Use three sigma rule to see the how departure delay lies on the edge .  \n",
    "https://en.wikipedia.org/wiki/68%E2%80%9395%E2%80%9399.7_rule"
   ]
  },
  {
   "cell_type": "code",
   "execution_count": 10,
   "metadata": {},
   "outputs": [
    {
     "data": {
      "text/html": [
       "\n",
       "    <div class=\"bqtv\" id=\"2_159122728673\"><table><tr><th>flights_min</th><th>flights_max</th></tr><tr><td>-129.16468072713647</td><td>148.08107768320795</td></tr></table></div>\n",
       "    <br />(rows: 1, time: 0.5s,    17MB processed, job: job_yduwDbtjBpEk9U70pEYUJGwHxb6i)<br />\n",
       "    <script src=\"/static/components/requirejs/require.js\"></script>\n",
       "    <script>\n",
       "\n",
       "      require.config({\n",
       "        paths: {\n",
       "          base: '/static/base',\n",
       "          d3: '//cdnjs.cloudflare.com/ajax/libs/d3/3.4.13/d3',\n",
       "          plotly: 'https://cdn.plot.ly/plotly-1.5.1.min.js?noext',\n",
       "          jquery: '//ajax.googleapis.com/ajax/libs/jquery/2.0.0/jquery.min'\n",
       "        },\n",
       "        map: {\n",
       "          '*': {\n",
       "            datalab: 'nbextensions/gcpdatalab'\n",
       "          }\n",
       "        },\n",
       "        shim: {\n",
       "          plotly: {\n",
       "            deps: ['d3', 'jquery'],\n",
       "            exports: 'plotly'\n",
       "          }\n",
       "        }\n",
       "      });\n",
       "\n",
       "      require(['datalab/charting', 'datalab/element!2_159122728673', 'base/js/events',\n",
       "          'datalab/style!/nbextensions/gcpdatalab/charting.css'],\n",
       "        function(charts, dom, events) {\n",
       "          charts.render('gcharts', dom, events, 'table', [], {\"cols\": [{\"label\": \"flights_min\", \"id\": \"flights_min\", \"type\": \"number\"}, {\"label\": \"flights_max\", \"id\": \"flights_max\", \"type\": \"number\"}], \"rows\": [{\"c\": [{\"v\": -129.16468072713647}, {\"v\": 148.08107768320795}]}]},\n",
       "            {\n",
       "              pageSize: 25,\n",
       "              cssClassNames:  {\n",
       "                tableRow: 'gchart-table-row',\n",
       "                headerRow: 'gchart-table-headerrow',\n",
       "                oddTableRow: 'gchart-table-oddrow',\n",
       "                selectedTableRow: 'gchart-table-selectedrow',\n",
       "                hoverTableRow: 'gchart-table-hoverrow',\n",
       "                tableCell: 'gchart-table-cell',\n",
       "                headerCell: 'gchart-table-headercell',\n",
       "                rowNumberCell: 'gchart-table-rownumcell'\n",
       "              }\n",
       "            },\n",
       "            {source_index: 1, fields: 'flights_min,flights_max', legacy: 'true'},\n",
       "            0,\n",
       "            1);\n",
       "        }\n",
       "      );\n",
       "    </script>\n",
       "  "
      ],
      "text/plain": [
       "QueryResultsTable job_yduwDbtjBpEk9U70pEYUJGwHxb6i"
      ]
     },
     "execution_count": 10,
     "metadata": {},
     "output_type": "execute_result"
    }
   ],
   "source": [
    "%bigquery execute -d standard\n",
    "SELECT\n",
    "  AVG(DEP_DELAY)-3*STDDEV(DEP_DELAY) AS flights_min,\n",
    "  AVG(DEP_DELAY)+3*STDDEV(DEP_DELAY) AS flights_max\n",
    "FROM  flights.simeventsb"
   ]
  },
  {
   "cell_type": "markdown",
   "metadata": {},
   "source": [
    "Above assumes that samples are Gaussian . If not, perhaps we use pecentile .\n",
    "\n",
    "To give supplement explanation, using 3sigma is based on assumption that _departure delay_ is gaussian (normal distribution).\n",
    "Rather, I would like to assume the _departure delay_ as upper and lower 5% data are outliers.\n",
    "\n",
    "Thus, I will split into quantiles and remove upper and lower 5% ."
   ]
  },
  {
   "cell_type": "code",
   "execution_count": 7,
   "metadata": {},
   "outputs": [
    {
     "data": {
      "text/html": [
       "\n",
       "    <div class=\"bqtv\" id=\"5_159131204331\"><table><tr><th>ventiles</th></tr><tr><td>[-50.0, -11.0, -9.0, -8.0, -7.0, -6.0, -5.0, -5.0, -4.0, -3.0, -3.0, -2.0, -1.0, 0.0, 2.0, 6.0, 11.0, 20.0, 35.0, 71.0, 2007.0]</td></tr></table></div>\n",
       "    <br />(rows: 1, time: 0.5s,    17MB processed, job: job_WcPuMJC30qy2_ZdtErf78sTZF7LD)<br />\n",
       "    <script src=\"/static/components/requirejs/require.js\"></script>\n",
       "    <script>\n",
       "\n",
       "      require.config({\n",
       "        paths: {\n",
       "          base: '/static/base',\n",
       "          d3: '//cdnjs.cloudflare.com/ajax/libs/d3/3.4.13/d3',\n",
       "          plotly: 'https://cdn.plot.ly/plotly-1.5.1.min.js?noext',\n",
       "          jquery: '//ajax.googleapis.com/ajax/libs/jquery/2.0.0/jquery.min'\n",
       "        },\n",
       "        map: {\n",
       "          '*': {\n",
       "            datalab: 'nbextensions/gcpdatalab'\n",
       "          }\n",
       "        },\n",
       "        shim: {\n",
       "          plotly: {\n",
       "            deps: ['d3', 'jquery'],\n",
       "            exports: 'plotly'\n",
       "          }\n",
       "        }\n",
       "      });\n",
       "\n",
       "      require(['datalab/charting', 'datalab/element!5_159131204331', 'base/js/events',\n",
       "          'datalab/style!/nbextensions/gcpdatalab/charting.css'],\n",
       "        function(charts, dom, events) {\n",
       "          charts.render('gcharts', dom, events, 'table', [], {\"rows\": [{\"c\": [{\"v\": [-50.0, -11.0, -9.0, -8.0, -7.0, -6.0, -5.0, -5.0, -4.0, -3.0, -3.0, -2.0, -1.0, 0.0, 2.0, 6.0, 11.0, 20.0, 35.0, 71.0, 2007.0]}]}], \"cols\": [{\"id\": \"ventiles\", \"label\": \"ventiles\", \"type\": \"string\"}]},\n",
       "            {\n",
       "              pageSize: 25,\n",
       "              cssClassNames:  {\n",
       "                tableRow: 'gchart-table-row',\n",
       "                headerRow: 'gchart-table-headerrow',\n",
       "                oddTableRow: 'gchart-table-oddrow',\n",
       "                selectedTableRow: 'gchart-table-selectedrow',\n",
       "                hoverTableRow: 'gchart-table-hoverrow',\n",
       "                tableCell: 'gchart-table-cell',\n",
       "                headerCell: 'gchart-table-headercell',\n",
       "                rowNumberCell: 'gchart-table-rownumcell'\n",
       "              }\n",
       "            },\n",
       "            {source_index: 3, fields: 'ventiles', legacy: 'true'},\n",
       "            0,\n",
       "            1);\n",
       "        }\n",
       "      );\n",
       "    </script>\n",
       "  "
      ],
      "text/plain": [
       "QueryResultsTable job_WcPuMJC30qy2_ZdtErf78sTZF7LD"
      ]
     },
     "execution_count": 7,
     "metadata": {},
     "output_type": "execute_result"
    }
   ],
   "source": [
    "%bigquery execute -d standard\n",
    "SELECT\n",
    "  APPROX_QUANTILES(DEP_DELAY, 20) as ventiles\n",
    "FROM  flights.simevents"
   ]
  },
  {
   "cell_type": "markdown",
   "metadata": {},
   "source": [
    "However, filtering out input data might lose  valuable \"nuance\". Thus, I will observe on frequency of certain value."
   ]
  },
  {
   "cell_type": "markdown",
   "metadata": {},
   "source": [
    "## Find data by occurence frequency\n",
    "\n",
    "I have decided to use the threshold for frequency as sigma 3.\n",
    "\n",
    "1 - 99.73 % + 0.27 % \n",
    "\n",
    "This 0.27% can be considered as 'outliers' .\n",
    "\n",
    "0.0027 = 1 / N ( <= 1 in N will be out of the population .)\n",
    "N = 1 / 0.0027 \n",
    "  = 1 / 370\n",
    "  \n",
    "So numflights that does not satisfy frequency of 370 will be treated as outliers ."
   ]
  },
  {
   "cell_type": "code",
   "execution_count": 20,
   "metadata": {},
   "outputs": [
    {
     "data": {
      "text/html": [
       "\n",
       "    <div class=\"bqtv\" id=\"2_159226534864\"><table><tr><th>DEP_DELAY</th><th>arrival_delay</th><th>stddev_arrival_delay</th><th>numflights</th></tr><tr><td>&nbsp;</td><td>-9.70798319327731</td><td>16.382674651465933</td><td>952</td></tr><tr><td>-21.0</td><td>-25.323886639676108</td><td>15.112571378380206</td><td>494</td></tr><tr><td>-20.0</td><td>-23.330788804071233</td><td>14.52140940462532</td><td>786</td></tr><tr><td>-19.0</td><td>-22.87524366471735</td><td>13.537879330598196</td><td>1026</td></tr><tr><td>-18.0</td><td>-23.313475177304966</td><td>14.106545902924173</td><td>1410</td></tr><tr><td>-17.0</td><td>-21.516393442622952</td><td>13.606678859658217</td><td>1952</td></tr><tr><td>-16.0</td><td>-21.15179198875614</td><td>13.462157151466316</td><td>2846</td></tr><tr><td>-15.0</td><td>-20.160142348754416</td><td>13.513036572106477</td><td>4496</td></tr><tr><td>-14.0</td><td>-19.360919540229865</td><td>13.20458608161916</td><td>6090</td></tr><tr><td>-13.0</td><td>-18.652736770383836</td><td>13.407313509484487</td><td>8806</td></tr><tr><td>-12.0</td><td>-17.370935960591186</td><td>12.998885522377726</td><td>12180</td></tr><tr><td>-11.0</td><td>-16.484738372093027</td><td>13.051298446415576</td><td>16512</td></tr><tr><td>-10.0</td><td>-16.131120053655327</td><td>12.946068962658458</td><td>29820</td></tr><tr><td>-9.0</td><td>-15.077550544776546</td><td>13.054962037773784</td><td>34326</td></tr><tr><td>-8.0</td><td>-14.513626024634112</td><td>13.012991617923369</td><td>46602</td></tr><tr><td>-7.0</td><td>-13.804227848948054</td><td>13.002697033140121</td><td>59794</td></tr><tr><td>-6.0</td><td>-12.924023602135463</td><td>12.76453276126204</td><td>71180</td></tr><tr><td>-5.0</td><td>-12.335714124268256</td><td>12.475507236016165</td><td>88486</td></tr><tr><td>-4.0</td><td>-11.193321152089254</td><td>12.67060123328494</td><td>83188</td></tr><tr><td>-3.0</td><td>-10.168594751602583</td><td>12.895240767585285</td><td>79872</td></tr><tr><td>-2.0</td><td>-9.115841009044855</td><td>13.10055777461636</td><td>72306</td></tr><tr><td>-1.0</td><td>-7.9239946685738465</td><td>13.291646972652703</td><td>61522</td></tr><tr><td>0.0</td><td>-6.239322906509618</td><td>13.465834023436747</td><td>51278</td></tr><tr><td>1.0</td><td>-5.522332401050932</td><td>13.671268340287593</td><td>23598</td></tr><tr><td>2.0</td><td>-4.522052495697075</td><td>13.510493252315516</td><td>18592</td></tr></table></div>\n",
       "    <br />(rows: 142, time: 0.2s, cached, job: job_JW9tHcwulJx0khMqq4XxQGvEV0yN)<br />\n",
       "    <script src=\"/static/components/requirejs/require.js\"></script>\n",
       "    <script>\n",
       "\n",
       "      require.config({\n",
       "        paths: {\n",
       "          base: '/static/base',\n",
       "          d3: '//cdnjs.cloudflare.com/ajax/libs/d3/3.4.13/d3',\n",
       "          plotly: 'https://cdn.plot.ly/plotly-1.5.1.min.js?noext',\n",
       "          jquery: '//ajax.googleapis.com/ajax/libs/jquery/2.0.0/jquery.min'\n",
       "        },\n",
       "        map: {\n",
       "          '*': {\n",
       "            datalab: 'nbextensions/gcpdatalab'\n",
       "          }\n",
       "        },\n",
       "        shim: {\n",
       "          plotly: {\n",
       "            deps: ['d3', 'jquery'],\n",
       "            exports: 'plotly'\n",
       "          }\n",
       "        }\n",
       "      });\n",
       "\n",
       "      require(['datalab/charting', 'datalab/element!2_159226534864', 'base/js/events',\n",
       "          'datalab/style!/nbextensions/gcpdatalab/charting.css'],\n",
       "        function(charts, dom, events) {\n",
       "          charts.render('gcharts', dom, events, 'paged_table', [], {\"rows\": [{\"c\": [{\"v\": null}, {\"v\": -9.70798319327731}, {\"v\": 16.382674651465933}, {\"v\": 952}]}, {\"c\": [{\"v\": -21.0}, {\"v\": -25.323886639676108}, {\"v\": 15.112571378380206}, {\"v\": 494}]}, {\"c\": [{\"v\": -20.0}, {\"v\": -23.330788804071233}, {\"v\": 14.52140940462532}, {\"v\": 786}]}, {\"c\": [{\"v\": -19.0}, {\"v\": -22.87524366471735}, {\"v\": 13.537879330598196}, {\"v\": 1026}]}, {\"c\": [{\"v\": -18.0}, {\"v\": -23.313475177304966}, {\"v\": 14.106545902924173}, {\"v\": 1410}]}, {\"c\": [{\"v\": -17.0}, {\"v\": -21.516393442622952}, {\"v\": 13.606678859658217}, {\"v\": 1952}]}, {\"c\": [{\"v\": -16.0}, {\"v\": -21.15179198875614}, {\"v\": 13.462157151466316}, {\"v\": 2846}]}, {\"c\": [{\"v\": -15.0}, {\"v\": -20.160142348754416}, {\"v\": 13.513036572106477}, {\"v\": 4496}]}, {\"c\": [{\"v\": -14.0}, {\"v\": -19.360919540229865}, {\"v\": 13.20458608161916}, {\"v\": 6090}]}, {\"c\": [{\"v\": -13.0}, {\"v\": -18.652736770383836}, {\"v\": 13.407313509484487}, {\"v\": 8806}]}, {\"c\": [{\"v\": -12.0}, {\"v\": -17.370935960591186}, {\"v\": 12.998885522377726}, {\"v\": 12180}]}, {\"c\": [{\"v\": -11.0}, {\"v\": -16.484738372093027}, {\"v\": 13.051298446415576}, {\"v\": 16512}]}, {\"c\": [{\"v\": -10.0}, {\"v\": -16.131120053655327}, {\"v\": 12.946068962658458}, {\"v\": 29820}]}, {\"c\": [{\"v\": -9.0}, {\"v\": -15.077550544776546}, {\"v\": 13.054962037773784}, {\"v\": 34326}]}, {\"c\": [{\"v\": -8.0}, {\"v\": -14.513626024634112}, {\"v\": 13.012991617923369}, {\"v\": 46602}]}, {\"c\": [{\"v\": -7.0}, {\"v\": -13.804227848948054}, {\"v\": 13.002697033140121}, {\"v\": 59794}]}, {\"c\": [{\"v\": -6.0}, {\"v\": -12.924023602135463}, {\"v\": 12.76453276126204}, {\"v\": 71180}]}, {\"c\": [{\"v\": -5.0}, {\"v\": -12.335714124268256}, {\"v\": 12.475507236016165}, {\"v\": 88486}]}, {\"c\": [{\"v\": -4.0}, {\"v\": -11.193321152089254}, {\"v\": 12.67060123328494}, {\"v\": 83188}]}, {\"c\": [{\"v\": -3.0}, {\"v\": -10.168594751602583}, {\"v\": 12.895240767585285}, {\"v\": 79872}]}, {\"c\": [{\"v\": -2.0}, {\"v\": -9.115841009044855}, {\"v\": 13.10055777461636}, {\"v\": 72306}]}, {\"c\": [{\"v\": -1.0}, {\"v\": -7.9239946685738465}, {\"v\": 13.291646972652703}, {\"v\": 61522}]}, {\"c\": [{\"v\": 0.0}, {\"v\": -6.239322906509618}, {\"v\": 13.465834023436747}, {\"v\": 51278}]}, {\"c\": [{\"v\": 1.0}, {\"v\": -5.522332401050932}, {\"v\": 13.671268340287593}, {\"v\": 23598}]}, {\"c\": [{\"v\": 2.0}, {\"v\": -4.522052495697075}, {\"v\": 13.510493252315516}, {\"v\": 18592}]}], \"cols\": [{\"type\": \"number\", \"label\": \"DEP_DELAY\", \"id\": \"DEP_DELAY\"}, {\"type\": \"number\", \"label\": \"arrival_delay\", \"id\": \"arrival_delay\"}, {\"type\": \"number\", \"label\": \"stddev_arrival_delay\", \"id\": \"stddev_arrival_delay\"}, {\"type\": \"number\", \"label\": \"numflights\", \"id\": \"numflights\"}]},\n",
       "            {\n",
       "              pageSize: 25,\n",
       "              cssClassNames:  {\n",
       "                tableRow: 'gchart-table-row',\n",
       "                headerRow: 'gchart-table-headerrow',\n",
       "                oddTableRow: 'gchart-table-oddrow',\n",
       "                selectedTableRow: 'gchart-table-selectedrow',\n",
       "                hoverTableRow: 'gchart-table-hoverrow',\n",
       "                tableCell: 'gchart-table-cell',\n",
       "                headerCell: 'gchart-table-headercell',\n",
       "                rowNumberCell: 'gchart-table-rownumcell'\n",
       "              }\n",
       "            },\n",
       "            {source_index: 1, fields: 'DEP_DELAY,arrival_delay,stddev_arrival_delay,numflights', legacy: 'true'},\n",
       "            0,\n",
       "            142);\n",
       "        }\n",
       "      );\n",
       "    </script>\n",
       "  "
      ],
      "text/plain": [
       "QueryResultsTable job_JW9tHcwulJx0khMqq4XxQGvEV0yN"
      ]
     },
     "execution_count": 20,
     "metadata": {},
     "output_type": "execute_result"
    }
   ],
   "source": [
    "%bigquery execute -d standard\n",
    "SELECT\n",
    "  DEP_DELAY,\n",
    "  AVG(ARR_DELAY) AS arrival_delay,\n",
    "  STDDEV(ARR_DELAY) AS stddev_arrival_delay,\n",
    "  COUNT(ARR_DELAY) AS numflights\n",
    "FROM\n",
    "  `flights.simevents`\n",
    "GROUP BY\n",
    "  DEP_DELAY\n",
    "HAVING\n",
    "  numflights > 370\n",
    "ORDER BY\n",
    "  DEP_DELAY"
   ]
  },
  {
   "cell_type": "code",
   "execution_count": 27,
   "metadata": {},
   "outputs": [
    {
     "name": "stdout",
     "output_type": "stream",
     "text": [
      "        1000      1168692 -2.87\n",
      "         500      1143060 -0.90\n",
      "         370      1133926 -0.53\n",
      "         300      1130270 -0.41\n",
      "         200      1123638 -0.20\n",
      "         100      1116104 -0.00\n",
      "          22      1109912 0.17\n",
      "          10      1108772 0.20\n",
      "           5      1107844 0.24\n"
     ]
    }
   ],
   "source": [
    "thresholds = [ 5, 10, 22, 100, 200, 300, 370, 500, 1000 ]\n",
    "total_records = 2209776\n",
    "\n",
    "sql = \"\"\"\n",
    "SELECT\n",
    "  {} - SUM(numflights) AS num_removed,\n",
    "  AVG(arrival_delay * numflights)/AVG(DEP_DELAY * numflights) AS lm\n",
    "FROM (\n",
    "  SELECT\n",
    "    DEP_DELAY,\n",
    "    AVG(ARR_DELAY) AS arrival_delay,\n",
    "    STDDEV(ARR_DELAY) AS stddev_arrival_delay,\n",
    "    COUNT(ARR_DELAY) AS numflights\n",
    "  FROM\n",
    "    `flights.simevents`\n",
    "  GROUP BY\n",
    "    DEP_DELAY\n",
    "  ORDER BY\n",
    "    DEP_DELAY )\n",
    "WHERE numflights > {}\n",
    "\"\"\"\n",
    "\n",
    "for t in sorted( thresholds, reverse=True):\n",
    "    df = bq.Query(sql.format(total_records, t)).execute().result().to_dataframe()\n",
    "    print('{:>12} {:>12} {:.2f}'.format( t, df['num_removed'][0],  df['lm'][0] ))"
   ]
  },
  {
   "cell_type": "markdown",
   "metadata": {},
   "source": [
    "## Conditioning arrival delay based on departure delay"
   ]
  },
  {
   "cell_type": "code",
   "execution_count": 11,
   "metadata": {},
   "outputs": [
    {
     "data": {
      "text/html": [
       "<div>\n",
       "<style scoped>\n",
       "    .dataframe tbody tr th:only-of-type {\n",
       "        vertical-align: middle;\n",
       "    }\n",
       "\n",
       "    .dataframe tbody tr th {\n",
       "        vertical-align: top;\n",
       "    }\n",
       "\n",
       "    .dataframe thead th {\n",
       "        text-align: right;\n",
       "    }\n",
       "</style>\n",
       "<table border=\"1\" class=\"dataframe\">\n",
       "  <thead>\n",
       "    <tr style=\"text-align: right;\">\n",
       "      <th></th>\n",
       "      <th>DEP_DELAY</th>\n",
       "      <th>arrival_delay</th>\n",
       "      <th>stddev_arrival_delay</th>\n",
       "      <th>numflights</th>\n",
       "    </tr>\n",
       "  </thead>\n",
       "  <tbody>\n",
       "    <tr>\n",
       "      <th>0</th>\n",
       "      <td>NaN</td>\n",
       "      <td>-9.707983</td>\n",
       "      <td>16.382675</td>\n",
       "      <td>952</td>\n",
       "    </tr>\n",
       "    <tr>\n",
       "      <th>1</th>\n",
       "      <td>-21.0</td>\n",
       "      <td>-25.323887</td>\n",
       "      <td>15.112571</td>\n",
       "      <td>494</td>\n",
       "    </tr>\n",
       "    <tr>\n",
       "      <th>2</th>\n",
       "      <td>-20.0</td>\n",
       "      <td>-23.330789</td>\n",
       "      <td>14.521409</td>\n",
       "      <td>786</td>\n",
       "    </tr>\n",
       "    <tr>\n",
       "      <th>3</th>\n",
       "      <td>-19.0</td>\n",
       "      <td>-22.875244</td>\n",
       "      <td>13.537879</td>\n",
       "      <td>1026</td>\n",
       "    </tr>\n",
       "    <tr>\n",
       "      <th>4</th>\n",
       "      <td>-18.0</td>\n",
       "      <td>-23.313475</td>\n",
       "      <td>14.106546</td>\n",
       "      <td>1410</td>\n",
       "    </tr>\n",
       "    <tr>\n",
       "      <th>5</th>\n",
       "      <td>-17.0</td>\n",
       "      <td>-21.516393</td>\n",
       "      <td>13.606679</td>\n",
       "      <td>1952</td>\n",
       "    </tr>\n",
       "    <tr>\n",
       "      <th>6</th>\n",
       "      <td>-16.0</td>\n",
       "      <td>-21.151792</td>\n",
       "      <td>13.462157</td>\n",
       "      <td>2846</td>\n",
       "    </tr>\n",
       "    <tr>\n",
       "      <th>7</th>\n",
       "      <td>-15.0</td>\n",
       "      <td>-20.160142</td>\n",
       "      <td>13.513037</td>\n",
       "      <td>4496</td>\n",
       "    </tr>\n",
       "    <tr>\n",
       "      <th>8</th>\n",
       "      <td>-14.0</td>\n",
       "      <td>-19.360920</td>\n",
       "      <td>13.204586</td>\n",
       "      <td>6090</td>\n",
       "    </tr>\n",
       "    <tr>\n",
       "      <th>9</th>\n",
       "      <td>-13.0</td>\n",
       "      <td>-18.652737</td>\n",
       "      <td>13.407314</td>\n",
       "      <td>8806</td>\n",
       "    </tr>\n",
       "    <tr>\n",
       "      <th>10</th>\n",
       "      <td>-12.0</td>\n",
       "      <td>-17.370936</td>\n",
       "      <td>12.998886</td>\n",
       "      <td>12180</td>\n",
       "    </tr>\n",
       "    <tr>\n",
       "      <th>11</th>\n",
       "      <td>-11.0</td>\n",
       "      <td>-16.484738</td>\n",
       "      <td>13.051298</td>\n",
       "      <td>16512</td>\n",
       "    </tr>\n",
       "    <tr>\n",
       "      <th>12</th>\n",
       "      <td>-10.0</td>\n",
       "      <td>-16.131120</td>\n",
       "      <td>12.946069</td>\n",
       "      <td>29820</td>\n",
       "    </tr>\n",
       "    <tr>\n",
       "      <th>13</th>\n",
       "      <td>-9.0</td>\n",
       "      <td>-15.077551</td>\n",
       "      <td>13.054962</td>\n",
       "      <td>34326</td>\n",
       "    </tr>\n",
       "    <tr>\n",
       "      <th>14</th>\n",
       "      <td>-8.0</td>\n",
       "      <td>-14.513626</td>\n",
       "      <td>13.012992</td>\n",
       "      <td>46602</td>\n",
       "    </tr>\n",
       "    <tr>\n",
       "      <th>15</th>\n",
       "      <td>-7.0</td>\n",
       "      <td>-13.804228</td>\n",
       "      <td>13.002697</td>\n",
       "      <td>59794</td>\n",
       "    </tr>\n",
       "    <tr>\n",
       "      <th>16</th>\n",
       "      <td>-6.0</td>\n",
       "      <td>-12.924024</td>\n",
       "      <td>12.764533</td>\n",
       "      <td>71180</td>\n",
       "    </tr>\n",
       "    <tr>\n",
       "      <th>17</th>\n",
       "      <td>-5.0</td>\n",
       "      <td>-12.335714</td>\n",
       "      <td>12.475507</td>\n",
       "      <td>88486</td>\n",
       "    </tr>\n",
       "    <tr>\n",
       "      <th>18</th>\n",
       "      <td>-4.0</td>\n",
       "      <td>-11.193321</td>\n",
       "      <td>12.670601</td>\n",
       "      <td>83188</td>\n",
       "    </tr>\n",
       "    <tr>\n",
       "      <th>19</th>\n",
       "      <td>-3.0</td>\n",
       "      <td>-10.168595</td>\n",
       "      <td>12.895241</td>\n",
       "      <td>79872</td>\n",
       "    </tr>\n",
       "  </tbody>\n",
       "</table>\n",
       "</div>"
      ],
      "text/plain": [
       "    DEP_DELAY  arrival_delay  stddev_arrival_delay  numflights\n",
       "0         NaN      -9.707983             16.382675         952\n",
       "1       -21.0     -25.323887             15.112571         494\n",
       "2       -20.0     -23.330789             14.521409         786\n",
       "3       -19.0     -22.875244             13.537879        1026\n",
       "4       -18.0     -23.313475             14.106546        1410\n",
       "5       -17.0     -21.516393             13.606679        1952\n",
       "6       -16.0     -21.151792             13.462157        2846\n",
       "7       -15.0     -20.160142             13.513037        4496\n",
       "8       -14.0     -19.360920             13.204586        6090\n",
       "9       -13.0     -18.652737             13.407314        8806\n",
       "10      -12.0     -17.370936             12.998886       12180\n",
       "11      -11.0     -16.484738             13.051298       16512\n",
       "12      -10.0     -16.131120             12.946069       29820\n",
       "13       -9.0     -15.077551             13.054962       34326\n",
       "14       -8.0     -14.513626             13.012992       46602\n",
       "15       -7.0     -13.804228             13.002697       59794\n",
       "16       -6.0     -12.924024             12.764533       71180\n",
       "17       -5.0     -12.335714             12.475507       88486\n",
       "18       -4.0     -11.193321             12.670601       83188\n",
       "19       -3.0     -10.168595             12.895241       79872"
      ]
     },
     "execution_count": 11,
     "metadata": {},
     "output_type": "execute_result"
    }
   ],
   "source": [
    "sql = \"\"\"\n",
    "SELECT\n",
    "  DEP_DELAY,\n",
    "  arrival_delay,\n",
    "  stddev_arrival_delay,\n",
    "  numflights\n",
    "FROM (\n",
    "  SELECT\n",
    "    DEP_DELAY,\n",
    "    AVG(ARR_DELAY) AS arrival_delay,\n",
    "    STDDEV(ARR_DELAY) AS stddev_arrival_delay,\n",
    "    COUNT(ARR_DELAY) AS numflights\n",
    "  FROM\n",
    "    `flights.simevents`\n",
    "  GROUP BY\n",
    "    DEP_DELAY )\n",
    "WHERE\n",
    "  numflights > 370\n",
    "ORDER BY\n",
    "  DEP_DELAY\n",
    "\"\"\"\n",
    "\n",
    "depdelay = bq.Query(sql).execute().result().to_dataframe()\n",
    "depdelay[:20]"
   ]
  },
  {
   "cell_type": "code",
   "execution_count": 7,
   "metadata": {},
   "outputs": [
    {
     "data": {
      "image/png": "[encoded data removed]",
      "text/plain": [
       "<matplotlib.figure.Figure at 0x7f6bc8667978>"
      ]
     },
     "metadata": {},
     "output_type": "display_data"
    }
   ],
   "source": [
    "ax = depdelay.plot(kind='line', x='DEP_DELAY',\n",
    "                  y='arrival_delay', yerr='stddev_arrival_delay')"
   ]
  },
  {
   "cell_type": "code",
   "execution_count": 9,
   "metadata": {},
   "outputs": [],
   "source": [
    "%bigquery create dataset -n tempdataset"
   ]
  },
  {
   "cell_type": "code",
   "execution_count": 8,
   "metadata": {},
   "outputs": [
    {
     "name": "stderr",
     "output_type": "stream",
     "text": [
      "HTTP request failed: Already Exists: Table elite-caster-125113:tempdataset.delays\n"
     ]
    }
   ],
   "source": [
    "%bigquery execute -d standard  -t tempdataset.delays\n",
    "SELECT\n",
    "  DEP_DELAY,\n",
    "  arrival_delay,\n",
    "  stddev_arrival_delay,\n",
    "  numflights\n",
    "FROM (\n",
    "  SELECT\n",
    "    DEP_DELAY,\n",
    "    AVG(ARR_DELAY) AS arrival_delay,\n",
    "    STDDEV(ARR_DELAY) AS stddev_arrival_delay,\n",
    "    COUNT(ARR_DELAY) AS numflights\n",
    "  FROM\n",
    "    `flights.simevents`\n",
    "  GROUP BY\n",
    "    DEP_DELAY )\n",
    "WHERE\n",
    "  numflights > 370\n",
    "ORDER BY\n",
    "  DEP_DELAY"
   ]
  },
  {
   "cell_type": "markdown",
   "metadata": {},
   "source": [
    "## Apply probalistic decision threshold\n"
   ]
  },
  {
   "cell_type": "code",
   "execution_count": 12,
   "metadata": {},
   "outputs": [
    {
     "data": {
      "text/plain": [
       "Text(0,0.5,'> 30% likelihood of this Arrival Delay (minutes)')"
      ]
     },
     "execution_count": 12,
     "metadata": {},
     "output_type": "execute_result"
    },
    {
     "data": {
      "image/png": "[encoded data removed]",
      "text/plain": [
       "<matplotlib.figure.Figure at 0x7f305932f6d8>"
      ]
     },
     "metadata": {},
     "output_type": "display_data"
    }
   ],
   "source": [
    "\"\"\"\n",
    "https://en.wikipedia.org/wiki/Standard_normal_table#Normal_and_standard_normal_distribution\n",
    "\n",
    "  If X is a random variable from a normal distribution with mean μ and standard deviation σ, \n",
    "  its Z-score may be calculated from X by subtracting μ and dividing by the standard deviation: \n",
    "  Z = (X - μ)/σ \n",
    "\n",
    "  Here I will find average arrival delay which satisfies the probability of the z table.\n",
    "  μ: standard deviation of arrival delay\n",
    "  σ: mean of arrival delay\n",
    "\n",
    "  0.52 = (X - μ)/σ\n",
    "  X = 0.52 * σ + μ\n",
    "\n",
    "\"\"\"\n",
    "\n",
    "Z_30 = 0.52\n",
    "depdelay['arr_delay_30'] = (Z_30 * depdelay['stddev_arrival_delay']) + depdelay['arrival_delay']\n",
    "\n",
    "plt.axhline(y=15, color='r')\n",
    "ax = plt.axes()\n",
    "depdelay.plot(kind='line', x='DEP_DELAY', y='arr_delay_30', ax=ax, ylim=(0,30), xlim=(0, 25), legend=False)\n",
    "ax.set_xlabel('Departure Delay (minutes)')\n",
    "ax.set_ylabel('> 30% likelihood of this Arrival Delay (minutes)')"
   ]
  },
  {
   "cell_type": "code",
   "execution_count": 18,
   "metadata": {},
   "outputs": [
    {
     "data": {
      "text/html": [
       "<div>\n",
       "<style scoped>\n",
       "    .dataframe tbody tr th:only-of-type {\n",
       "        vertical-align: middle;\n",
       "    }\n",
       "\n",
       "    .dataframe tbody tr th {\n",
       "        vertical-align: top;\n",
       "    }\n",
       "\n",
       "    .dataframe thead th {\n",
       "        text-align: right;\n",
       "    }\n",
       "</style>\n",
       "<table border=\"1\" class=\"dataframe\">\n",
       "  <thead>\n",
       "    <tr style=\"text-align: right;\">\n",
       "      <th></th>\n",
       "      <th>DEP_DELAY</th>\n",
       "      <th>arrival_delay</th>\n",
       "      <th>stddev_arrival_delay</th>\n",
       "      <th>numflights</th>\n",
       "      <th>arr_delay_30</th>\n",
       "    </tr>\n",
       "  </thead>\n",
       "  <tbody>\n",
       "    <tr>\n",
       "      <th>20</th>\n",
       "      <td>-2.0</td>\n",
       "      <td>-9.115841</td>\n",
       "      <td>13.100558</td>\n",
       "      <td>72306</td>\n",
       "      <td>-2.303551</td>\n",
       "    </tr>\n",
       "    <tr>\n",
       "      <th>21</th>\n",
       "      <td>-1.0</td>\n",
       "      <td>-7.923995</td>\n",
       "      <td>13.291647</td>\n",
       "      <td>61522</td>\n",
       "      <td>-1.012338</td>\n",
       "    </tr>\n",
       "    <tr>\n",
       "      <th>22</th>\n",
       "      <td>0.0</td>\n",
       "      <td>-6.239323</td>\n",
       "      <td>13.465834</td>\n",
       "      <td>51278</td>\n",
       "      <td>0.762911</td>\n",
       "    </tr>\n",
       "    <tr>\n",
       "      <th>23</th>\n",
       "      <td>1.0</td>\n",
       "      <td>-5.522332</td>\n",
       "      <td>13.671268</td>\n",
       "      <td>23598</td>\n",
       "      <td>1.586727</td>\n",
       "    </tr>\n",
       "    <tr>\n",
       "      <th>24</th>\n",
       "      <td>2.0</td>\n",
       "      <td>-4.522052</td>\n",
       "      <td>13.510493</td>\n",
       "      <td>18592</td>\n",
       "      <td>2.503404</td>\n",
       "    </tr>\n",
       "    <tr>\n",
       "      <th>25</th>\n",
       "      <td>3.0</td>\n",
       "      <td>-3.435026</td>\n",
       "      <td>13.753797</td>\n",
       "      <td>16068</td>\n",
       "      <td>3.716948</td>\n",
       "    </tr>\n",
       "    <tr>\n",
       "      <th>26</th>\n",
       "      <td>4.0</td>\n",
       "      <td>-2.433559</td>\n",
       "      <td>13.778054</td>\n",
       "      <td>14494</td>\n",
       "      <td>4.731030</td>\n",
       "    </tr>\n",
       "    <tr>\n",
       "      <th>27</th>\n",
       "      <td>5.0</td>\n",
       "      <td>-1.443867</td>\n",
       "      <td>13.979991</td>\n",
       "      <td>13468</td>\n",
       "      <td>5.825728</td>\n",
       "    </tr>\n",
       "    <tr>\n",
       "      <th>28</th>\n",
       "      <td>6.0</td>\n",
       "      <td>-0.665391</td>\n",
       "      <td>13.549576</td>\n",
       "      <td>12020</td>\n",
       "      <td>6.380388</td>\n",
       "    </tr>\n",
       "    <tr>\n",
       "      <th>29</th>\n",
       "      <td>7.0</td>\n",
       "      <td>0.325886</td>\n",
       "      <td>13.825019</td>\n",
       "      <td>11010</td>\n",
       "      <td>7.514895</td>\n",
       "    </tr>\n",
       "    <tr>\n",
       "      <th>30</th>\n",
       "      <td>8.0</td>\n",
       "      <td>1.417116</td>\n",
       "      <td>13.692973</td>\n",
       "      <td>10376</td>\n",
       "      <td>8.537462</td>\n",
       "    </tr>\n",
       "    <tr>\n",
       "      <th>31</th>\n",
       "      <td>9.0</td>\n",
       "      <td>2.339638</td>\n",
       "      <td>14.257357</td>\n",
       "      <td>9622</td>\n",
       "      <td>9.753464</td>\n",
       "    </tr>\n",
       "    <tr>\n",
       "      <th>32</th>\n",
       "      <td>10.0</td>\n",
       "      <td>3.457990</td>\n",
       "      <td>14.844864</td>\n",
       "      <td>9236</td>\n",
       "      <td>11.177320</td>\n",
       "    </tr>\n",
       "    <tr>\n",
       "      <th>33</th>\n",
       "      <td>11.0</td>\n",
       "      <td>4.186893</td>\n",
       "      <td>14.266039</td>\n",
       "      <td>8240</td>\n",
       "      <td>11.605233</td>\n",
       "    </tr>\n",
       "    <tr>\n",
       "      <th>34</th>\n",
       "      <td>12.0</td>\n",
       "      <td>5.426674</td>\n",
       "      <td>14.475189</td>\n",
       "      <td>7678</td>\n",
       "      <td>12.953772</td>\n",
       "    </tr>\n",
       "    <tr>\n",
       "      <th>35</th>\n",
       "      <td>13.0</td>\n",
       "      <td>6.543573</td>\n",
       "      <td>14.953439</td>\n",
       "      <td>7344</td>\n",
       "      <td>14.319361</td>\n",
       "    </tr>\n",
       "    <tr>\n",
       "      <th>36</th>\n",
       "      <td>14.0</td>\n",
       "      <td>7.150544</td>\n",
       "      <td>14.600406</td>\n",
       "      <td>6802</td>\n",
       "      <td>14.742755</td>\n",
       "    </tr>\n",
       "    <tr>\n",
       "      <th>37</th>\n",
       "      <td>15.0</td>\n",
       "      <td>8.308282</td>\n",
       "      <td>14.856445</td>\n",
       "      <td>6520</td>\n",
       "      <td>16.033634</td>\n",
       "    </tr>\n",
       "    <tr>\n",
       "      <th>38</th>\n",
       "      <td>16.0</td>\n",
       "      <td>9.555485</td>\n",
       "      <td>15.027200</td>\n",
       "      <td>6272</td>\n",
       "      <td>17.369628</td>\n",
       "    </tr>\n",
       "    <tr>\n",
       "      <th>39</th>\n",
       "      <td>17.0</td>\n",
       "      <td>10.423764</td>\n",
       "      <td>14.942227</td>\n",
       "      <td>5824</td>\n",
       "      <td>18.193722</td>\n",
       "    </tr>\n",
       "  </tbody>\n",
       "</table>\n",
       "</div>"
      ],
      "text/plain": [
       "    DEP_DELAY  arrival_delay  stddev_arrival_delay  numflights  arr_delay_30\n",
       "20       -2.0      -9.115841             13.100558       72306     -2.303551\n",
       "21       -1.0      -7.923995             13.291647       61522     -1.012338\n",
       "22        0.0      -6.239323             13.465834       51278      0.762911\n",
       "23        1.0      -5.522332             13.671268       23598      1.586727\n",
       "24        2.0      -4.522052             13.510493       18592      2.503404\n",
       "25        3.0      -3.435026             13.753797       16068      3.716948\n",
       "26        4.0      -2.433559             13.778054       14494      4.731030\n",
       "27        5.0      -1.443867             13.979991       13468      5.825728\n",
       "28        6.0      -0.665391             13.549576       12020      6.380388\n",
       "29        7.0       0.325886             13.825019       11010      7.514895\n",
       "30        8.0       1.417116             13.692973       10376      8.537462\n",
       "31        9.0       2.339638             14.257357        9622      9.753464\n",
       "32       10.0       3.457990             14.844864        9236     11.177320\n",
       "33       11.0       4.186893             14.266039        8240     11.605233\n",
       "34       12.0       5.426674             14.475189        7678     12.953772\n",
       "35       13.0       6.543573             14.953439        7344     14.319361\n",
       "36       14.0       7.150544             14.600406        6802     14.742755\n",
       "37       15.0       8.308282             14.856445        6520     16.033634\n",
       "38       16.0       9.555485             15.027200        6272     17.369628\n",
       "39       17.0      10.423764             14.942227        5824     18.193722"
      ]
     },
     "execution_count": 18,
     "metadata": {},
     "output_type": "execute_result"
    }
   ],
   "source": [
    "# print dataset to confirm the actul crossing point\n",
    "depdelay[20:40]"
   ]
  },
  {
   "cell_type": "markdown",
   "metadata": {},
   "source": [
    "## Apply empirical probability distribution function"
   ]
  },
  {
   "cell_type": "code",
   "execution_count": 21,
   "metadata": {},
   "outputs": [
    {
     "data": {
      "text/plain": [
       "Text(0,0.5,'> 30% likelihood of this Arrival Delay (minutes)')"
      ]
     },
     "execution_count": 21,
     "metadata": {},
     "output_type": "execute_result"
    },
    {
     "data": {
      "image/png": "[encoded data removed]",
      "text/plain": [
       "<matplotlib.figure.Figure at 0x7f305939b8d0>"
      ]
     },
     "metadata": {},
     "output_type": "display_data"
    }
   ],
   "source": [
    "depdelay2 = \"\"\"\n",
    "SELECT\n",
    "  DEP_DELAY,\n",
    "  APPROX_QUANTILES(ARR_DELAY, 101)[OFFSET(70)] AS arrival_delay,\n",
    "  COUNT(ARR_DELAY) AS numflights\n",
    "FROM\n",
    "  `flights.simevents`\n",
    "GROUP BY\n",
    "  DEP_DELAY\n",
    "HAVING\n",
    "  numflights > 370\n",
    "ORDER BY\n",
    "  DEP_DELAY\n",
    "\"\"\"\n",
    "\n",
    "df = bq.Query(depdelay2).execute().result().to_dataframe()\n",
    "plt.axhline(y=15, color='r')\n",
    "ax = plt.axes()\n",
    "df.plot(kind='line', x='DEP_DELAY', y='arrival_delay', ax=ax, xlim=(0,30), legend=False)\n",
    "ax.set_xlabel('Departure Delay (minutes)')\n",
    "ax.set_ylabel('> 30% likelihood of this Arrival Delay (minutes)')\n"
   ]
  },
  {
   "cell_type": "code",
   "execution_count": 22,
   "metadata": {},
   "outputs": [
    {
     "data": {
      "text/plain": [
       "Text(0,0.5,'> 30% likelihood of this Arrival Delay (minutes)')"
      ]
     },
     "execution_count": 22,
     "metadata": {},
     "output_type": "execute_result"
    },
    {
     "data": {
      "image/png": "[encoded data removed]",
      "text/plain": [
       "<matplotlib.figure.Figure at 0x7f30592b2908>"
      ]
     },
     "metadata": {},
     "output_type": "display_data"
    }
   ],
   "source": [
    "depdelay3 = \"\"\"\n",
    "SELECT *\n",
    "FROM (\n",
    "  SELECT\n",
    "    DEP_DELAY,\n",
    "    APPROX_QUANTILES(ARR_DELAY, 101)[OFFSET(70)] AS arrival_delay,\n",
    "    COUNT(ARR_DELAY) AS numflights\n",
    "  FROM\n",
    "    `flights.simevents` f\n",
    "  JOIN `flights.trainday` t\n",
    "  ON f.FL_DATE = t.FL_DATE \n",
    "  WHERE\n",
    "    t.is_train_day = 'True'\n",
    "  GROUP BY\n",
    "    DEP_DELAY )\n",
    "WHERE\n",
    "  numflights > 370\n",
    "ORDER BY\n",
    "  DEP_DELAY\n",
    "\"\"\"\n",
    "\n",
    "df = bq.Query(depdelay3).execute().result().to_dataframe()\n",
    "plt.axhline(y=15, color='r')\n",
    "ax = plt.axes()\n",
    "df.plot(kind='line', x='DEP_DELAY', y='arrival_delay', ax=ax, xlim=(0,30), legend=False)\n",
    "ax.set_xlabel('Departure Delay (minutes)')\n",
    "ax.set_ylabel('> 30% likelihood of this Arrival Delay (minutes)')"
   ]
  },
  {
   "cell_type": "code",
   "execution_count": 20,
   "metadata": {},
   "outputs": [
    {
     "data": {
      "text/html": [
       "<div>\n",
       "<style scoped>\n",
       "    .dataframe tbody tr th:only-of-type {\n",
       "        vertical-align: middle;\n",
       "    }\n",
       "\n",
       "    .dataframe tbody tr th {\n",
       "        vertical-align: top;\n",
       "    }\n",
       "\n",
       "    .dataframe thead th {\n",
       "        text-align: right;\n",
       "    }\n",
       "</style>\n",
       "<table border=\"1\" class=\"dataframe\">\n",
       "  <thead>\n",
       "    <tr style=\"text-align: right;\">\n",
       "      <th></th>\n",
       "      <th>DEP_DELAY</th>\n",
       "      <th>arrival_delay</th>\n",
       "      <th>numflights</th>\n",
       "    </tr>\n",
       "  </thead>\n",
       "  <tbody>\n",
       "    <tr>\n",
       "      <th>20</th>\n",
       "      <td>-1.0</td>\n",
       "      <td>-4.0</td>\n",
       "      <td>36328</td>\n",
       "    </tr>\n",
       "    <tr>\n",
       "      <th>21</th>\n",
       "      <td>0.0</td>\n",
       "      <td>-2.0</td>\n",
       "      <td>29980</td>\n",
       "    </tr>\n",
       "    <tr>\n",
       "      <th>22</th>\n",
       "      <td>1.0</td>\n",
       "      <td>-1.0</td>\n",
       "      <td>13488</td>\n",
       "    </tr>\n",
       "    <tr>\n",
       "      <th>23</th>\n",
       "      <td>2.0</td>\n",
       "      <td>0.0</td>\n",
       "      <td>10660</td>\n",
       "    </tr>\n",
       "    <tr>\n",
       "      <th>24</th>\n",
       "      <td>3.0</td>\n",
       "      <td>1.0</td>\n",
       "      <td>9266</td>\n",
       "    </tr>\n",
       "    <tr>\n",
       "      <th>25</th>\n",
       "      <td>4.0</td>\n",
       "      <td>2.0</td>\n",
       "      <td>8326</td>\n",
       "    </tr>\n",
       "    <tr>\n",
       "      <th>26</th>\n",
       "      <td>5.0</td>\n",
       "      <td>3.0</td>\n",
       "      <td>7888</td>\n",
       "    </tr>\n",
       "    <tr>\n",
       "      <th>27</th>\n",
       "      <td>6.0</td>\n",
       "      <td>4.0</td>\n",
       "      <td>7012</td>\n",
       "    </tr>\n",
       "    <tr>\n",
       "      <th>28</th>\n",
       "      <td>7.0</td>\n",
       "      <td>5.0</td>\n",
       "      <td>6424</td>\n",
       "    </tr>\n",
       "    <tr>\n",
       "      <th>29</th>\n",
       "      <td>8.0</td>\n",
       "      <td>6.0</td>\n",
       "      <td>5928</td>\n",
       "    </tr>\n",
       "    <tr>\n",
       "      <th>30</th>\n",
       "      <td>9.0</td>\n",
       "      <td>6.0</td>\n",
       "      <td>5602</td>\n",
       "    </tr>\n",
       "    <tr>\n",
       "      <th>31</th>\n",
       "      <td>10.0</td>\n",
       "      <td>8.0</td>\n",
       "      <td>5326</td>\n",
       "    </tr>\n",
       "    <tr>\n",
       "      <th>32</th>\n",
       "      <td>11.0</td>\n",
       "      <td>8.0</td>\n",
       "      <td>4690</td>\n",
       "    </tr>\n",
       "    <tr>\n",
       "      <th>33</th>\n",
       "      <td>12.0</td>\n",
       "      <td>9.0</td>\n",
       "      <td>4326</td>\n",
       "    </tr>\n",
       "    <tr>\n",
       "      <th>34</th>\n",
       "      <td>13.0</td>\n",
       "      <td>11.0</td>\n",
       "      <td>4158</td>\n",
       "    </tr>\n",
       "    <tr>\n",
       "      <th>35</th>\n",
       "      <td>14.0</td>\n",
       "      <td>12.0</td>\n",
       "      <td>3898</td>\n",
       "    </tr>\n",
       "    <tr>\n",
       "      <th>36</th>\n",
       "      <td>15.0</td>\n",
       "      <td>12.0</td>\n",
       "      <td>3652</td>\n",
       "    </tr>\n",
       "    <tr>\n",
       "      <th>37</th>\n",
       "      <td>16.0</td>\n",
       "      <td>13.0</td>\n",
       "      <td>3540</td>\n",
       "    </tr>\n",
       "    <tr>\n",
       "      <th>38</th>\n",
       "      <td>17.0</td>\n",
       "      <td>15.0</td>\n",
       "      <td>3206</td>\n",
       "    </tr>\n",
       "    <tr>\n",
       "      <th>39</th>\n",
       "      <td>18.0</td>\n",
       "      <td>16.0</td>\n",
       "      <td>3090</td>\n",
       "    </tr>\n",
       "  </tbody>\n",
       "</table>\n",
       "</div>"
      ],
      "text/plain": [
       "    DEP_DELAY  arrival_delay  numflights\n",
       "20       -1.0           -4.0       36328\n",
       "21        0.0           -2.0       29980\n",
       "22        1.0           -1.0       13488\n",
       "23        2.0            0.0       10660\n",
       "24        3.0            1.0        9266\n",
       "25        4.0            2.0        8326\n",
       "26        5.0            3.0        7888\n",
       "27        6.0            4.0        7012\n",
       "28        7.0            5.0        6424\n",
       "29        8.0            6.0        5928\n",
       "30        9.0            6.0        5602\n",
       "31       10.0            8.0        5326\n",
       "32       11.0            8.0        4690\n",
       "33       12.0            9.0        4326\n",
       "34       13.0           11.0        4158\n",
       "35       14.0           12.0        3898\n",
       "36       15.0           12.0        3652\n",
       "37       16.0           13.0        3540\n",
       "38       17.0           15.0        3206\n",
       "39       18.0           16.0        3090"
      ]
     },
     "execution_count": 20,
     "metadata": {},
     "output_type": "execute_result"
    }
   ],
   "source": [
    "# Print dataset to confirm actual crossing point\n",
    "df[20:40]"
   ]
  },
  {
   "cell_type": "markdown",
   "metadata": {},
   "source": [
    "## (ONGOING) Evaluate model"
   ]
  },
  {
   "cell_type": "code",
   "execution_count": 29,
   "metadata": {},
   "outputs": [
    {
     "data": {
      "text/html": [
       "<div>\n",
       "<style scoped>\n",
       "    .dataframe tbody tr th:only-of-type {\n",
       "        vertical-align: middle;\n",
       "    }\n",
       "\n",
       "    .dataframe tbody tr th {\n",
       "        vertical-align: top;\n",
       "    }\n",
       "\n",
       "    .dataframe thead th {\n",
       "        text-align: right;\n",
       "    }\n",
       "</style>\n",
       "<table border=\"1\" class=\"dataframe\">\n",
       "  <thead>\n",
       "    <tr style=\"text-align: right;\">\n",
       "      <th></th>\n",
       "      <th>correct_noncancel</th>\n",
       "      <th>wrong_noncancel</th>\n",
       "      <th>wrong_cancel</th>\n",
       "      <th>correct_cancel</th>\n",
       "    </tr>\n",
       "  </thead>\n",
       "  <tbody>\n",
       "    <tr>\n",
       "      <th>0</th>\n",
       "      <td>349952</td>\n",
       "      <td>20806</td>\n",
       "      <td>15228</td>\n",
       "      <td>73570</td>\n",
       "    </tr>\n",
       "  </tbody>\n",
       "</table>\n",
       "</div>"
      ],
      "text/plain": [
       "   correct_noncancel  wrong_noncancel  wrong_cancel  correct_cancel\n",
       "0             349952            20806         15228           73570"
      ]
     },
     "execution_count": 29,
     "metadata": {},
     "output_type": "execute_result"
    }
   ],
   "source": [
    "eval_sql = \"\"\"\n",
    "SELECT\n",
    "  SUM(IF(DEP_DELAY < 17\n",
    "    AND arr_delay < 15, 1, 0 )) AS correct_noncancel,\n",
    "  SUM(IF(DEP_DELAY < 17\n",
    "    AND arr_delay >= 15, 1, 0 )) AS wrong_noncancel,\n",
    "  SUM(IF(DEP_DELAY >= 17\n",
    "    AND arr_delay < 15, 1, 0 )) AS wrong_cancel,\n",
    "  SUM(IF(DEP_DELAY >= 17\n",
    "    AND arr_delay >= 15, 1, 0 )) AS correct_cancel\n",
    "FROM (\n",
    "  SELECT\n",
    "    DEP_DELAY,\n",
    "    ARR_DELAY\n",
    "  FROM\n",
    "    `flights.simevents` f\n",
    "  JOIN\n",
    "    `flights.trainday` t\n",
    "  ON\n",
    "    f.FL_DATE = t.FL_DATE\n",
    "  WHERE\n",
    "    t.is_train_day = 'False')\n",
    "\"\"\"\n",
    "\n",
    "df = bq.Query(eval_sql).execute().result().to_dataframe()\n",
    "\n",
    "df.head()"
   ]
  },
  {
   "cell_type": "markdown",
   "metadata": {},
   "source": [
    "## (TODO) Train and test"
   ]
  }
 ],
 "metadata": {
  "kernelspec": {
   "display_name": "Python 3",
   "language": "python",
   "name": "python3"
  },
  "language_info": {
   "codemirror_mode": {
    "name": "ipython",
    "version": 3
   },
   "file_extension": ".py",
   "mimetype": "text/x-python",
   "name": "python",
   "nbconvert_exporter": "python",
   "pygments_lexer": "ipython3",
   "version": "3.9.2"
  }
 },
 "nbformat": 4,
 "nbformat_minor": 2
}
