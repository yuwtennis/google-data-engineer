{
 "cells": [
  {
   "cell_type": "markdown",
   "metadata": {},
   "source": [
    "# Getting started with exploratory data analysis"
   ]
  },
  {
   "cell_type": "markdown",
   "metadata": {},
   "source": [
    "## Install and import required libraries"
   ]
  },
  {
   "cell_type": "code",
   "execution_count": 4,
   "metadata": {},
   "outputs": [
    {
     "name": "stdout",
     "output_type": "stream",
     "text": [
      "Requirement already satisfied: sns in /usr/local/envs/py3env/lib/python3.5/site-packages (0.1)\n"
     ]
    }
   ],
   "source": [
    "%bash\n",
    "pip install sns"
   ]
  },
  {
   "cell_type": "markdown",
   "metadata": {},
   "source": [
    "### NOTE \n",
    "Run below cell whenever you restart the session"
   ]
  },
  {
   "cell_type": "code",
   "execution_count": 8,
   "metadata": {},
   "outputs": [],
   "source": [
    "import matplotlib.pyplot as plt\n",
    "import seaborn as sb\n",
    "import pandas as pd\n",
    "import numpy as np\n",
    "import google.datalab.bigquery as bq\n",
    "import warnings\n",
    "\n",
    "# Disable warnings\n",
    "warnings.filterwarnings('ignore')"
   ]
  },
  {
   "cell_type": "markdown",
   "metadata": {},
   "source": [
    "## Sampling data using bigquery"
   ]
  },
  {
   "cell_type": "markdown",
   "metadata": {},
   "source": [
    "First check total number of rows we have in our table."
   ]
  },
  {
   "cell_type": "code",
   "execution_count": 68,
   "metadata": {},
   "outputs": [
    {
     "data": {
      "text/html": [
       "\n",
       "    <div class=\"bqtv\" id=\"16_158963239154\"><table><tr><th>f0_</th></tr><tr><td>2209776</td></tr></table></div>\n",
       "    <br />(rows: 1, time: 0.5s,    17MB processed, job: job_qYLQ7uhN9AX1hZnX-qT_TpA8Ouu0)<br />\n",
       "    <script src=\"/static/components/requirejs/require.js\"></script>\n",
       "    <script>\n",
       "\n",
       "      require.config({\n",
       "        paths: {\n",
       "          base: '/static/base',\n",
       "          d3: '//cdnjs.cloudflare.com/ajax/libs/d3/3.4.13/d3',\n",
       "          plotly: 'https://cdn.plot.ly/plotly-1.5.1.min.js?noext',\n",
       "          jquery: '//ajax.googleapis.com/ajax/libs/jquery/2.0.0/jquery.min'\n",
       "        },\n",
       "        map: {\n",
       "          '*': {\n",
       "            datalab: 'nbextensions/gcpdatalab'\n",
       "          }\n",
       "        },\n",
       "        shim: {\n",
       "          plotly: {\n",
       "            deps: ['d3', 'jquery'],\n",
       "            exports: 'plotly'\n",
       "          }\n",
       "        }\n",
       "      });\n",
       "\n",
       "      require(['datalab/charting', 'datalab/element!16_158963239154', 'base/js/events',\n",
       "          'datalab/style!/nbextensions/gcpdatalab/charting.css'],\n",
       "        function(charts, dom, events) {\n",
       "          charts.render('gcharts', dom, events, 'table', [], {\"rows\": [{\"c\": [{\"v\": 2209776}]}], \"cols\": [{\"label\": \"f0_\", \"id\": \"f0_\", \"type\": \"number\"}]},\n",
       "            {\n",
       "              pageSize: 25,\n",
       "              cssClassNames:  {\n",
       "                tableRow: 'gchart-table-row',\n",
       "                headerRow: 'gchart-table-headerrow',\n",
       "                oddTableRow: 'gchart-table-oddrow',\n",
       "                selectedTableRow: 'gchart-table-selectedrow',\n",
       "                hoverTableRow: 'gchart-table-hoverrow',\n",
       "                tableCell: 'gchart-table-cell',\n",
       "                headerCell: 'gchart-table-headercell',\n",
       "                rowNumberCell: 'gchart-table-rownumcell'\n",
       "              }\n",
       "            },\n",
       "            {source_index: 11, fields: 'f0_', legacy: 'true'},\n",
       "            0,\n",
       "            1);\n",
       "        }\n",
       "      );\n",
       "    </script>\n",
       "  "
      ],
      "text/plain": [
       "QueryResultsTable job_qYLQ7uhN9AX1hZnX-qT_TpA8Ouu0"
      ]
     },
     "execution_count": 68,
     "metadata": {},
     "output_type": "execute_result"
    }
   ],
   "source": [
    "%bigquery execute -d standard\n",
    "SELECT COUNT(DEP_DELAY) FROM flights.simevents"
   ]
  },
  {
   "cell_type": "markdown",
   "metadata": {},
   "source": [
    "We will use [RAND](https://cloud.google.com/bigquery/docs/reference/standard-sql/functions-and-operators#rand) to get random sample from uniformely distributed dataset.\n",
    "Lets check how accurate the query is."
   ]
  },
  {
   "cell_type": "code",
   "execution_count": 71,
   "metadata": {},
   "outputs": [
    {
     "data": {
      "text/html": [
       "\n",
       "    <div class=\"bqtv\" id=\"17_158963264354\"><table><tr><th>f0_</th></tr><tr><td>22117</td></tr></table></div>\n",
       "    <br />(rows: 1, time: 0.4s,     0B processed, job: job_e_GorJ1nZFgcqhQR--GnlynQ0kN3)<br />\n",
       "    <script src=\"/static/components/requirejs/require.js\"></script>\n",
       "    <script>\n",
       "\n",
       "      require.config({\n",
       "        paths: {\n",
       "          base: '/static/base',\n",
       "          d3: '//cdnjs.cloudflare.com/ajax/libs/d3/3.4.13/d3',\n",
       "          plotly: 'https://cdn.plot.ly/plotly-1.5.1.min.js?noext',\n",
       "          jquery: '//ajax.googleapis.com/ajax/libs/jquery/2.0.0/jquery.min'\n",
       "        },\n",
       "        map: {\n",
       "          '*': {\n",
       "            datalab: 'nbextensions/gcpdatalab'\n",
       "          }\n",
       "        },\n",
       "        shim: {\n",
       "          plotly: {\n",
       "            deps: ['d3', 'jquery'],\n",
       "            exports: 'plotly'\n",
       "          }\n",
       "        }\n",
       "      });\n",
       "\n",
       "      require(['datalab/charting', 'datalab/element!17_158963264354', 'base/js/events',\n",
       "          'datalab/style!/nbextensions/gcpdatalab/charting.css'],\n",
       "        function(charts, dom, events) {\n",
       "          charts.render('gcharts', dom, events, 'table', [], {\"rows\": [{\"c\": [{\"v\": 22117}]}], \"cols\": [{\"label\": \"f0_\", \"id\": \"f0_\", \"type\": \"number\"}]},\n",
       "            {\n",
       "              pageSize: 25,\n",
       "              cssClassNames:  {\n",
       "                tableRow: 'gchart-table-row',\n",
       "                headerRow: 'gchart-table-headerrow',\n",
       "                oddTableRow: 'gchart-table-oddrow',\n",
       "                selectedTableRow: 'gchart-table-selectedrow',\n",
       "                hoverTableRow: 'gchart-table-hoverrow',\n",
       "                tableCell: 'gchart-table-cell',\n",
       "                headerCell: 'gchart-table-headercell',\n",
       "                rowNumberCell: 'gchart-table-rownumcell'\n",
       "              }\n",
       "            },\n",
       "            {source_index: 12, fields: 'f0_', legacy: 'true'},\n",
       "            0,\n",
       "            1);\n",
       "        }\n",
       "      );\n",
       "    </script>\n",
       "  "
      ],
      "text/plain": [
       "QueryResultsTable job_e_GorJ1nZFgcqhQR--GnlynQ0kN3"
      ]
     },
     "execution_count": 71,
     "metadata": {},
     "output_type": "execute_result"
    }
   ],
   "source": [
    "%bigquery execute -d standard \n",
    "SELECT COUNT(*) FROM flights.simevents WHERE RAND() < 0.01"
   ]
  },
  {
   "cell_type": "markdown",
   "metadata": {},
   "source": [
    "Looks quite accurate. Try with the code now.\n",
    "Our goal is to find the 30% chance of arrival delay is 15 min late. From chapter 3 that is departure delay of 10 min .\n",
    "Will look into more depth with arrival delay for datasets that has departure delay larger than 10 min."
   ]
  },
  {
   "cell_type": "code",
   "execution_count": 6,
   "metadata": {},
   "outputs": [
    {
     "data": {
      "text/html": [
       "<div>\n",
       "<style scoped>\n",
       "    .dataframe tbody tr th:only-of-type {\n",
       "        vertical-align: middle;\n",
       "    }\n",
       "\n",
       "    .dataframe tbody tr th {\n",
       "        vertical-align: top;\n",
       "    }\n",
       "\n",
       "    .dataframe thead th {\n",
       "        text-align: right;\n",
       "    }\n",
       "</style>\n",
       "<table border=\"1\" class=\"dataframe\">\n",
       "  <thead>\n",
       "    <tr style=\"text-align: right;\">\n",
       "      <th></th>\n",
       "      <th>ARR_DELAY</th>\n",
       "      <th>DEP_DELAY</th>\n",
       "    </tr>\n",
       "  </thead>\n",
       "  <tbody>\n",
       "    <tr>\n",
       "      <th>count</th>\n",
       "      <td>1696.000000</td>\n",
       "      <td>1703.000000</td>\n",
       "    </tr>\n",
       "    <tr>\n",
       "      <th>mean</th>\n",
       "      <td>-8.790094</td>\n",
       "      <td>-2.825602</td>\n",
       "    </tr>\n",
       "    <tr>\n",
       "      <th>std</th>\n",
       "      <td>14.193963</td>\n",
       "      <td>4.820954</td>\n",
       "    </tr>\n",
       "    <tr>\n",
       "      <th>min</th>\n",
       "      <td>-57.000000</td>\n",
       "      <td>-24.000000</td>\n",
       "    </tr>\n",
       "    <tr>\n",
       "      <th>25%</th>\n",
       "      <td>-17.000000</td>\n",
       "      <td>-6.000000</td>\n",
       "    </tr>\n",
       "    <tr>\n",
       "      <th>50%</th>\n",
       "      <td>-10.000000</td>\n",
       "      <td>-3.000000</td>\n",
       "    </tr>\n",
       "    <tr>\n",
       "      <th>75%</th>\n",
       "      <td>-2.000000</td>\n",
       "      <td>0.000000</td>\n",
       "    </tr>\n",
       "    <tr>\n",
       "      <th>max</th>\n",
       "      <td>118.000000</td>\n",
       "      <td>9.000000</td>\n",
       "    </tr>\n",
       "  </tbody>\n",
       "</table>\n",
       "</div>"
      ],
      "text/plain": [
       "         ARR_DELAY    DEP_DELAY\n",
       "count  1696.000000  1703.000000\n",
       "mean     -8.790094    -2.825602\n",
       "std      14.193963     4.820954\n",
       "min     -57.000000   -24.000000\n",
       "25%     -17.000000    -6.000000\n",
       "50%     -10.000000    -3.000000\n",
       "75%      -2.000000     0.000000\n",
       "max     118.000000     9.000000"
      ]
     },
     "execution_count": 6,
     "metadata": {},
     "output_type": "execute_result"
    }
   ],
   "source": [
    "# \n",
    "\n",
    "sql = \"\"\"\n",
    "SELECT ARR_DELAY, DEP_DELAY\n",
    "FROM `flights.fedtzcorr`\n",
    "WHERE DEP_DELAY > 10 AND RAND() < 0.01\n",
    "\"\"\"\n",
    "\n",
    "df = bq.Query(sql).execute().result().to_dataframe()\n",
    "df.describe()"
   ]
  },
  {
   "cell_type": "markdown",
   "metadata": {},
   "source": [
    "## Check probability distribution for arrival delay using violin plot."
   ]
  },
  {
   "cell_type": "code",
   "execution_count": 9,
   "metadata": {},
   "outputs": [
    {
     "data": {
      "image/png": "[encoded data removed]",
      "text/plain": [
       "<matplotlib.figure.Figure at 0x7f9ef798dbe0>"
      ]
     },
     "metadata": {},
     "output_type": "display_data"
    }
   ],
   "source": [
    "sb.set_style(\"whitegrid\")\n",
    "ax = sb.violinplot(data=df, x='ARR_DELAY', inner='box', orient='h')"
   ]
  },
  {
   "cell_type": "markdown",
   "metadata": {},
   "source": [
    "## Explore arrival delays\n",
    "Here, I will compare the probability for arrival delay between datasets that has less than 10 min delay and more than 10 min delay."
   ]
  },
  {
   "cell_type": "code",
   "execution_count": 15,
   "metadata": {},
   "outputs": [
    {
     "data": {
      "text/plain": [
       "(-50, 200)"
      ]
     },
     "execution_count": 15,
     "metadata": {},
     "output_type": "execute_result"
    },
    {
     "data": {
      "image/png": "[encoded data removed]",
      "text/plain": [
       "<matplotlib.figure.Figure at 0x7f9ef73724a8>"
      ]
     },
     "metadata": {},
     "output_type": "display_data"
    }
   ],
   "source": [
    "# Pull random 1% sample from the dataset\n",
    "\n",
    "sql = \"\"\"\n",
    "SELECT ARR_DELAY, DEP_DELAY\n",
    "FROM `flights.fedtzcorr`\n",
    "WHERE RAND() < 0.001\n",
    "\"\"\"\n",
    "\n",
    "df = bq.Query(sql).execute().result().to_dataframe()\n",
    "\n",
    "# Threshold comparison will be done in the code.\n",
    "# Mark column \"ontime\" as TRUE when the departure delay is less than 10 min\n",
    "df['ontime'] = df['DEP_DELAY'] < 10\n",
    "\n",
    "sb.set_style(\"whitegrid\")\n",
    "ax = sb.violinplot(data=df, x='ARR_DELAY', y='ontime', inner='box', orient='h', gridsize=1000)\n",
    "ax.set_xlim(-50, 200)"
   ]
  },
  {
   "cell_type": "markdown",
   "metadata": {},
   "source": [
    "## (ONGOING) Add quality control\n",
    "Here, I will explore how arrival delays are distributed against departure delay."
   ]
  },
  {
   "cell_type": "code",
   "execution_count": 21,
   "metadata": {},
   "outputs": [
    {
     "data": {
      "text/html": [
       "\n",
       "    <div class=\"bqtv\" id=\"6_158976123605\"><table><tr><th>dep_delay_in_minutes</th><th>arrival_delay_in_minutes</th><th>numflights</th></tr><tr><td>&nbsp;</td><td>-9.70798319327731</td><td>952</td></tr><tr><td>-50.0</td><td>-38.0</td><td>2</td></tr><tr><td>-49.0</td><td>-59.5</td><td>4</td></tr><tr><td>-46.0</td><td>-28.5</td><td>4</td></tr><tr><td>-45.0</td><td>-44.0</td><td>4</td></tr><tr><td>-43.0</td><td>-53.0</td><td>4</td></tr><tr><td>-42.0</td><td>-35.0</td><td>6</td></tr><tr><td>-40.0</td><td>-26.0</td><td>4</td></tr><tr><td>-39.0</td><td>-33.5</td><td>4</td></tr><tr><td>-38.0</td><td>-21.5</td><td>4</td></tr><tr><td>-37.0</td><td>-37.666666666666664</td><td>12</td></tr><tr><td>-36.0</td><td>-35.0</td><td>2</td></tr><tr><td>-35.0</td><td>-32.57142857142857</td><td>14</td></tr><tr><td>-34.0</td><td>-30.0</td><td>18</td></tr><tr><td>-33.0</td><td>-26.200000000000003</td><td>10</td></tr><tr><td>-32.0</td><td>-34.8</td><td>10</td></tr><tr><td>-31.0</td><td>-28.769230769230766</td><td>26</td></tr><tr><td>-30.0</td><td>-34.93749999999999</td><td>32</td></tr><tr><td>-29.0</td><td>-31.375000000000004</td><td>48</td></tr><tr><td>-28.0</td><td>-24.857142857142854</td><td>70</td></tr><tr><td>-27.0</td><td>-28.837209302325583</td><td>86</td></tr><tr><td>-26.0</td><td>-27.555555555555554</td><td>108</td></tr><tr><td>-25.0</td><td>-27.44</td><td>150</td></tr><tr><td>-24.0</td><td>-25.989583333333332</td><td>192</td></tr><tr><td>-23.0</td><td>-26.491666666666674</td><td>240</td></tr></table></div>\n",
       "    <br />(rows: 969, time: 0.1s, cached, job: job_Ap1f8f1F0hzb4VxrRa5uadrmSRNp)<br />\n",
       "    <script src=\"/static/components/requirejs/require.js\"></script>\n",
       "    <script>\n",
       "\n",
       "      require.config({\n",
       "        paths: {\n",
       "          base: '/static/base',\n",
       "          d3: '//cdnjs.cloudflare.com/ajax/libs/d3/3.4.13/d3',\n",
       "          plotly: 'https://cdn.plot.ly/plotly-1.5.1.min.js?noext',\n",
       "          jquery: '//ajax.googleapis.com/ajax/libs/jquery/2.0.0/jquery.min'\n",
       "        },\n",
       "        map: {\n",
       "          '*': {\n",
       "            datalab: 'nbextensions/gcpdatalab'\n",
       "          }\n",
       "        },\n",
       "        shim: {\n",
       "          plotly: {\n",
       "            deps: ['d3', 'jquery'],\n",
       "            exports: 'plotly'\n",
       "          }\n",
       "        }\n",
       "      });\n",
       "\n",
       "      require(['datalab/charting', 'datalab/element!6_158976123605', 'base/js/events',\n",
       "          'datalab/style!/nbextensions/gcpdatalab/charting.css'],\n",
       "        function(charts, dom, events) {\n",
       "          charts.render('gcharts', dom, events, 'paged_table', [], {\"cols\": [{\"label\": \"dep_delay_in_minutes\", \"id\": \"dep_delay_in_minutes\", \"type\": \"number\"}, {\"label\": \"arrival_delay_in_minutes\", \"id\": \"arrival_delay_in_minutes\", \"type\": \"number\"}, {\"label\": \"numflights\", \"id\": \"numflights\", \"type\": \"number\"}], \"rows\": [{\"c\": [{\"v\": null}, {\"v\": -9.70798319327731}, {\"v\": 952}]}, {\"c\": [{\"v\": -50.0}, {\"v\": -38.0}, {\"v\": 2}]}, {\"c\": [{\"v\": -49.0}, {\"v\": -59.5}, {\"v\": 4}]}, {\"c\": [{\"v\": -46.0}, {\"v\": -28.5}, {\"v\": 4}]}, {\"c\": [{\"v\": -45.0}, {\"v\": -44.0}, {\"v\": 4}]}, {\"c\": [{\"v\": -43.0}, {\"v\": -53.0}, {\"v\": 4}]}, {\"c\": [{\"v\": -42.0}, {\"v\": -35.0}, {\"v\": 6}]}, {\"c\": [{\"v\": -40.0}, {\"v\": -26.0}, {\"v\": 4}]}, {\"c\": [{\"v\": -39.0}, {\"v\": -33.5}, {\"v\": 4}]}, {\"c\": [{\"v\": -38.0}, {\"v\": -21.5}, {\"v\": 4}]}, {\"c\": [{\"v\": -37.0}, {\"v\": -37.666666666666664}, {\"v\": 12}]}, {\"c\": [{\"v\": -36.0}, {\"v\": -35.0}, {\"v\": 2}]}, {\"c\": [{\"v\": -35.0}, {\"v\": -32.57142857142857}, {\"v\": 14}]}, {\"c\": [{\"v\": -34.0}, {\"v\": -30.0}, {\"v\": 18}]}, {\"c\": [{\"v\": -33.0}, {\"v\": -26.200000000000003}, {\"v\": 10}]}, {\"c\": [{\"v\": -32.0}, {\"v\": -34.8}, {\"v\": 10}]}, {\"c\": [{\"v\": -31.0}, {\"v\": -28.769230769230766}, {\"v\": 26}]}, {\"c\": [{\"v\": -30.0}, {\"v\": -34.93749999999999}, {\"v\": 32}]}, {\"c\": [{\"v\": -29.0}, {\"v\": -31.375000000000004}, {\"v\": 48}]}, {\"c\": [{\"v\": -28.0}, {\"v\": -24.857142857142854}, {\"v\": 70}]}, {\"c\": [{\"v\": -27.0}, {\"v\": -28.837209302325583}, {\"v\": 86}]}, {\"c\": [{\"v\": -26.0}, {\"v\": -27.555555555555554}, {\"v\": 108}]}, {\"c\": [{\"v\": -25.0}, {\"v\": -27.44}, {\"v\": 150}]}, {\"c\": [{\"v\": -24.0}, {\"v\": -25.989583333333332}, {\"v\": 192}]}, {\"c\": [{\"v\": -23.0}, {\"v\": -26.491666666666674}, {\"v\": 240}]}]},\n",
       "            {\n",
       "              pageSize: 25,\n",
       "              cssClassNames:  {\n",
       "                tableRow: 'gchart-table-row',\n",
       "                headerRow: 'gchart-table-headerrow',\n",
       "                oddTableRow: 'gchart-table-oddrow',\n",
       "                selectedTableRow: 'gchart-table-selectedrow',\n",
       "                hoverTableRow: 'gchart-table-hoverrow',\n",
       "                tableCell: 'gchart-table-cell',\n",
       "                headerCell: 'gchart-table-headercell',\n",
       "                rowNumberCell: 'gchart-table-rownumcell'\n",
       "              }\n",
       "            },\n",
       "            {source_index: 4, fields: 'dep_delay_in_minutes,arrival_delay_in_minutes,numflights', legacy: 'true'},\n",
       "            0,\n",
       "            969);\n",
       "        }\n",
       "      );\n",
       "    </script>\n",
       "  "
      ],
      "text/plain": [
       "QueryResultsTable job_Ap1f8f1F0hzb4VxrRa5uadrmSRNp"
      ]
     },
     "execution_count": 21,
     "metadata": {},
     "output_type": "execute_result"
    }
   ],
   "source": [
    "%bigquery execute -d standard\n",
    "SELECT\n",
    "  DEP_DELAY as dep_delay_in_minutes,\n",
    "  AVG(ARR_DELAY) AS arrival_delay_in_minutes,\n",
    "  COUNT(ARR_DELAY) AS numflights\n",
    "FROM flights.simevents\n",
    "GROUP BY DEP_DELAY\n",
    "ORDER BY DEP_DELAY"
   ]
  },
  {
   "cell_type": "code",
   "execution_count": 33,
   "metadata": {},
   "outputs": [
    {
     "data": {
      "text/plain": [
       "(-20, 0)"
      ]
     },
     "execution_count": 33,
     "metadata": {},
     "output_type": "execute_result"
    },
    {
     "data": {
      "image/png": "[encoded data removed]",
      "text/plain": [
       "<matplotlib.figure.Figure at 0x7f9ee4296588>"
      ]
     },
     "metadata": {},
     "output_type": "display_data"
    }
   ],
   "source": [
    "sql=\"\"\"\n",
    "SELECT\n",
    "  DEP_DELAY as dep_delay_in_minutes,\n",
    "  AVG(ARR_DELAY) AS arrival_delay_in_minutes,\n",
    "  COUNT(ARR_DELAY) AS numflights\n",
    "FROM flights.simevents\n",
    "GROUP BY DEP_DELAY\n",
    "ORDER BY DEP_DELAY\n",
    "\"\"\"\n",
    "\n",
    "df = bq.Query(sql).execute().result().to_dataframe()\n",
    "\n",
    "ax = sb.barplot(data=df, x='dep_delay_in_minutes', y='numflights')\n",
    "ax.set_xlim(-20,0)"
   ]
  },
  {
   "cell_type": "markdown",
   "metadata": {},
   "source": [
    "## (TODO) Find oddball values"
   ]
  },
  {
   "cell_type": "markdown",
   "metadata": {},
   "source": [
    "## (TODO) Finding outlier"
   ]
  },
  {
   "cell_type": "markdown",
   "metadata": {},
   "source": [
    "## (TODO) Find data by occurence frequency"
   ]
  },
  {
   "cell_type": "markdown",
   "metadata": {},
   "source": [
    "## (TODO) Conditioning arrival delay based on departure delay"
   ]
  },
  {
   "cell_type": "markdown",
   "metadata": {},
   "source": [
    "## (TODO) Apply probalistic decision threshold"
   ]
  },
  {
   "cell_type": "markdown",
   "metadata": {},
   "source": [
    "## (TODO) Apply empirical probability distribution function"
   ]
  },
  {
   "cell_type": "markdown",
   "metadata": {},
   "source": [
    "## (TODO) Evaluate model"
   ]
  },
  {
   "cell_type": "markdown",
   "metadata": {},
   "source": [
    "## (TODO) Train and test"
   ]
  },
  {
   "cell_type": "code",
   "execution_count": null,
   "metadata": {},
   "outputs": [],
   "source": []
  }
 ],
 "metadata": {
  "kernelspec": {
   "display_name": "Python 3",
   "language": "python",
   "name": "python3"
  },
  "language_info": {
   "codemirror_mode": {
    "name": "ipython",
    "version": 3
   },
   "file_extension": ".py",
   "mimetype": "text/x-python",
   "name": "python",
   "nbconvert_exporter": "python",
   "pygments_lexer": "ipython3",
   "version": "3.5.6"
  }
 },
 "nbformat": 4,
 "nbformat_minor": 2
}
