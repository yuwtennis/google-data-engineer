{
 "cells": [
  {
   "cell_type": "markdown",
   "metadata": {},
   "source": [
    "# Analyzing data using spark"
   ]
  },
  {
   "cell_type": "markdown",
   "metadata": {},
   "source": [
    "## Prepare environment variables"
   ]
  },
  {
   "cell_type": "code",
   "execution_count": 20,
   "metadata": {},
   "outputs": [
    {
     "name": "stdout",
     "output_type": "stream",
     "text": [
      "env: PROJECT=elite-caster-125113\n"
     ]
    }
   ],
   "source": [
    "%env PROJECT=elite-caster-125113"
   ]
  },
  {
   "cell_type": "code",
   "execution_count": 21,
   "metadata": {},
   "outputs": [
    {
     "name": "stdout",
     "output_type": "stream",
     "text": [
      "env: GS_TZCORR_FLIGHT=flights/output/events-00000-of-00004\n"
     ]
    }
   ],
   "source": [
    "%env GS_TZCORR_FLIGHT=flights/output/events-00000-of-00004"
   ]
  },
  {
   "cell_type": "markdown",
   "metadata": {},
   "source": [
    "## Check spark version"
   ]
  },
  {
   "cell_type": "code",
   "execution_count": 37,
   "metadata": {},
   "outputs": [
    {
     "name": "stderr",
     "output_type": "stream",
     "text": [
      "Welcome to\n",
      "      ____              __\n",
      "     / __/__  ___ _____/ /__\n",
      "    _\\ \\/ _ \\/ _ `/ __/  '_/\n",
      "   /___/ .__/\\_,_/_/ /_/\\_\\   version 2.3.4\n",
      "      /_/\n",
      "                        \n",
      "Using Scala version 2.11.8, OpenJDK 64-Bit Server VM, 1.8.0_252\n",
      "Branch HEAD\n",
      "Compiled by user  on 2020-04-01T12:17:00Z\n",
      "Revision d52bf2785a4363f4954c32bc612ba484dd385ccb\n",
      "Url https://bigdataoss-internal.googlesource.com/third_party/apache/spark\n",
      "Type --help for more information.\n"
     ]
    }
   ],
   "source": [
    "%bash\n",
    "spark-submit --version"
   ]
  },
  {
   "cell_type": "markdown",
   "metadata": {},
   "source": [
    "## Prepare required libraries"
   ]
  },
  {
   "cell_type": "code",
   "execution_count": 38,
   "metadata": {},
   "outputs": [],
   "source": [
    "from pyspark.sql import SparkSession\n",
    "from pyspark import SparkConf\n",
    "from pyspark.sql.types import *"
   ]
  },
  {
   "cell_type": "markdown",
   "metadata": {},
   "source": [
    "## Configure spark\n",
    "Skip this phase when using data initialized with google script. I wrote this for practice\n",
    "\n",
    "gs://dataproc-initialization-actions/datalab/datalab.sh"
   ]
  },
  {
   "cell_type": "code",
   "execution_count": 39,
   "metadata": {},
   "outputs": [],
   "source": [
    "\"\"\"\n",
    "SparkConf  \n",
    "https://spark.apache.org/docs/SPARKVERSION/api/python/pyspark.html#pyspark.SparkConf\n",
    "\n",
    "Property list\n",
    "https://spark.apache.org/docs/SPARKVERSION/configuration.html\n",
    "\"\"\"\n",
    "\n",
    "# Write properties here\n",
    "conf = [\n",
    "  (\"spark.app.name\", \"Bayes classification using Spark\"),\n",
    "  (\"spark.master\", \"local\")\n",
    "]\n",
    "\n",
    "s_conf=SparkConf() \\\n",
    "    .setAll(conf)"
   ]
  },
  {
   "cell_type": "markdown",
   "metadata": {},
   "source": [
    "## Initilaize spark session\n",
    "We will use SparkSession to create entry point to access Dataset and Dataframe APIs."
   ]
  },
  {
   "cell_type": "code",
   "execution_count": 7,
   "metadata": {},
   "outputs": [],
   "source": [
    "\"\"\"\n",
    "SparkSession\n",
    "https://spark.apache.org/docs/SPARKVERSION/api/python/pyspark.sql.html#pyspark.sql.SparkSession\n",
    "\"\"\"\n",
    "s_session = SparkSession \\\n",
    "    .builder \\\n",
    "    .config(conf=s_conf) \\\n",
    "    .getOrCreate()"
   ]
  },
  {
   "cell_type": "markdown",
   "metadata": {},
   "source": [
    "## Define schema for parsing csv lines extracted from spark"
   ]
  },
  {
   "cell_type": "code",
   "execution_count": 40,
   "metadata": {},
   "outputs": [],
   "source": [
    "\"\"\"\n",
    "StructField\n",
    "https://spark.apache.org/docs/SPARKVERSION/api/python/pyspark.sql.html#pyspark.sql.types.StructField\n",
    "\"\"\"\n",
    "\n",
    "def get_structfield(colname):\n",
    "  # Tell spark to recognize the column as correct type instead of string\n",
    "  if colname in ['ARR_DELAY', 'DEP_DELAY', 'DISTANCE']:\n",
    "    return StructField(colname, FloatType(), True)\n",
    "  else:\n",
    "    return StructField(colname, StringType(), True)"
   ]
  },
  {
   "cell_type": "markdown",
   "metadata": {},
   "source": [
    "## Import sample flight data"
   ]
  },
  {
   "cell_type": "code",
   "execution_count": 29,
   "metadata": {},
   "outputs": [],
   "source": [
    "\n",
    "project=os.getenv('PROJECT')\n",
    "gs_path=os.getenv('GS_TZCORR_FLIGHT')\n",
    "input='gs://{}/{}'.format(project, gs_path)\n",
    "\n",
    "flights = spark.read \\\n",
    "    .csv(inputs)"
   ]
  },
  {
   "cell_type": "code",
   "execution_count": null,
   "metadata": {},
   "outputs": [],
   "source": []
  }
 ],
 "metadata": {
  "kernelspec": {
   "display_name": "Python 3",
   "language": "python",
   "name": "python3"
  },
  "language_info": {
   "codemirror_mode": {
    "name": "ipython",
    "version": 3
   },
   "file_extension": ".py",
   "mimetype": "text/x-python",
   "name": "python",
   "nbconvert_exporter": "python",
   "pygments_lexer": "ipython3",
   "version": "3.5.6"
  }
 },
 "nbformat": 4,
 "nbformat_minor": 2
}
