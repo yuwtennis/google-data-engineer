{
 "cells": [
  {
   "cell_type": "code",
   "execution_count": null,
   "metadata": {},
   "outputs": [],
   "source": []
  },
  {
   "cell_type": "markdown",
   "metadata": {},
   "source": [
    "Hello World"
   ]
  },
  {
   "cell_type": "code",
   "execution_count": 1,
   "metadata": {},
   "outputs": [
    {
     "name": "stdout",
     "output_type": "stream",
     "text": [
      "Sum: 8\n"
     ]
    }
   ],
   "source": [
    "a=3\n",
    "b=5\n",
    "\n",
    "print(\"Sum: {}\".format(a+b))"
   ]
  },
  {
   "cell_type": "code",
   "execution_count": 1,
   "metadata": {},
   "outputs": [
    {
     "name": "stdout",
     "output_type": "stream",
     "text": [
      "absl-py==0.7.1\r\n",
      "alembic==0.8.10\r\n",
      "apache-airflow==1.9.0\r\n",
      "appdirs==1.4.3\r\n",
      "asn1crypto==0.24.0\r\n",
      "astor==0.8.0\r\n",
      "attrs==19.1.0\r\n",
      "Automat==0.7.0\r\n",
      "backcall==0.1.0\r\n",
      "beautifulsoup4==4.7.1\r\n",
      "bleach==2.1.2\r\n",
      "blinker==1.4\r\n",
      "bokeh==0.13.0\r\n",
      "brewer2mpl==1.4.1\r\n",
      "bs4==0.0.1\r\n",
      "cachetools==2.1.0\r\n",
      "certifi==2018.8.24\r\n",
      "cffi==1.11.5\r\n",
      "chardet==3.0.4\r\n",
      "click==6.7\r\n",
      "cloudpickle==1.1.1\r\n",
      "configparser==3.5.3\r\n",
      "constantly==15.1.0\r\n",
      "crcmod==1.7\r\n",
      "croniter==0.3.30\r\n",
      "cryptography==2.3.1\r\n",
      "cycler==0.10.0\r\n",
      "cytoolz==0.9.0.1\r\n",
      "dask==0.17.1\r\n",
      "datalab==1.1.3\r\n",
      "decorator==4.4.0\r\n",
      "defusedxml==0.6.0\r\n",
      "dill==0.2.6\r\n",
      "distributed==1.21.8\r\n",
      "docutils==0.14\r\n",
      "entrypoints==0.2.3\r\n",
      "fastcache==1.0.2\r\n",
      "Flask==0.11.1\r\n",
      "Flask-Admin==1.4.1\r\n",
      "Flask-Cache==0.13.1\r\n",
      "Flask-Login==0.2.11\r\n",
      "flask-swagger==0.2.13\r\n",
      "Flask-WTF==0.14\r\n",
      "funcsigs==1.0.0\r\n",
      "future==0.16.0\r\n",
      "futures==3.0.3\r\n",
      "gast==0.2.2\r\n",
      "ggplot==0.6.8\r\n",
      "gitdb2==2.0.5\r\n",
      "GitPython==2.1.11\r\n",
      "google-api-core==0.1.4\r\n",
      "google-api-python-client==1.6.2\r\n",
      "google-auth==1.6.3\r\n",
      "google-auth-httplib2==0.0.3\r\n",
      "google-auth-oauthlib==0.3.0\r\n",
      "google-cloud-bigquery==1.10.0\r\n",
      "google-cloud-core==0.28.1\r\n",
      "google-cloud-monitoring==0.28.0\r\n",
      "google-resumable-media==0.3.2\r\n",
      "googleapis-common-protos==1.5.9\r\n",
      "grpcio==1.21.1\r\n",
      "gunicorn==19.9.0\r\n",
      "h5py==2.7.1\r\n",
      "heapdict==1.0.0\r\n",
      "html5lib==1.0.1\r\n",
      "httplib2==0.10.3\r\n",
      "hyperlink==19.0.0\r\n",
      "idna==2.6\r\n",
      "imageio==2.4.1\r\n",
      "incremental==17.5.0\r\n",
      "ipykernel==4.8.2\r\n",
      "ipython==6.5.0\r\n",
      "ipython-genutils==0.2.0\r\n",
      "ipywidgets==7.2.1\r\n",
      "itsdangerous==1.1.0\r\n",
      "jedi==0.12.1\r\n",
      "Jinja2==2.8\r\n",
      "jsonschema==2.6.0\r\n",
      "jupyter-client==5.2.3\r\n",
      "jupyter-core==4.4.0\r\n",
      "jupyter-highlight-selected-word==0.2.0\r\n",
      "lime==0.1.1.23\r\n",
      "locket==0.2.0\r\n",
      "lockfile==0.12.2\r\n",
      "lxml==3.8.0\r\n",
      "Mako==1.0.12\r\n",
      "Markdown==2.6.11\r\n",
      "MarkupSafe==1.0\r\n",
      "matplotlib==2.1.2\r\n",
      "mistune==0.8.3\r\n",
      "mltoolbox-datalab-classification-and-regression==1.0.1\r\n",
      "mltoolbox-datalab-image-classification==0.2\r\n",
      "mock==2.0.0\r\n",
      "msgpack==0.5.6\r\n",
      "nbconvert==5.5.0\r\n",
      "nbformat==4.4.0\r\n",
      "networkx==2.3\r\n",
      "nltk==3.2.1\r\n",
      "notebook==5.6.0\r\n",
      "numpy==1.14.0\r\n",
      "oauth2client==2.2.0\r\n",
      "oauthlib==3.0.1\r\n",
      "olefile==0.46\r\n",
      "ordereddict==1.1\r\n",
      "packaging==17.1\r\n",
      "pandas==0.22.0\r\n",
      "pandas-gbq==0.3.0\r\n",
      "pandas-profiling==1.4.2\r\n",
      "pandocfilters==1.4.2\r\n",
      "parso==0.4.0\r\n",
      "partd==0.3.10\r\n",
      "patsy==0.5.0\r\n",
      "pbr==5.1.3\r\n",
      "pexpect==4.6.0\r\n",
      "pickleshare==0.7.4\r\n",
      "Pillow==3.4.1\r\n",
      "plotly==1.12.5\r\n",
      "prometheus-client==0.3.1\r\n",
      "prompt-toolkit==1.0.15\r\n",
      "protobuf==3.6.1\r\n",
      "psutil==4.3.0\r\n",
      "ptyprocess==0.6.0\r\n",
      "pyasn1==0.4.5\r\n",
      "pyasn1-modules==0.2.2\r\n",
      "pycparser==2.19\r\n",
      "Pygments==2.1.3\r\n",
      "PyJWT==1.6.4\r\n",
      "pyOpenSSL==18.0.0\r\n",
      "pyparsing==2.4.0\r\n",
      "PySocks==1.6.8\r\n",
      "python-daemon==2.1.2\r\n",
      "python-dateutil==2.5.0\r\n",
      "python-editor==1.0.4\r\n",
      "python-nvd3==0.14.2\r\n",
      "python-slugify==1.1.4\r\n",
      "python-snappy==0.5.1\r\n",
      "pytz==2018.4\r\n",
      "PyWavelets==1.0.0\r\n",
      "PyYAML==3.13\r\n",
      "pyzmq==17.1.0\r\n",
      "requests==2.18.4\r\n",
      "requests-oauthlib==1.2.0\r\n",
      "rsa==3.4.2\r\n",
      "scikit-image==0.13.0\r\n",
      "scikit-learn==0.19.1\r\n",
      "scipy==1.0.0\r\n",
      "seaborn==0.7.0\r\n",
      "Send2Trash==1.5.0\r\n",
      "service-identity==17.0.0\r\n",
      "setproctitle==1.1.10\r\n",
      "simplegeneric==0.8.1\r\n",
      "simplejson==3.16.0\r\n",
      "six==1.10.0\r\n",
      "smmap2==2.0.5\r\n",
      "sortedcontainers==2.0.5\r\n",
      "soupsieve==1.9.1\r\n",
      "SQLAlchemy==1.3.4\r\n",
      "statsmodels==0.8.0\r\n",
      "sympy==0.7.6.1\r\n",
      "tabulate==0.7.7\r\n",
      "tblib==1.4.0\r\n",
      "tensorboard==1.8.0\r\n",
      "tensorflow==1.8.0\r\n",
      "termcolor==1.1.0\r\n",
      "terminado==0.8.1\r\n",
      "testpath==0.3.1\r\n",
      "thrift==0.11.0\r\n",
      "toolz==0.9.0\r\n",
      "tornado==4.5.1\r\n",
      "traitlets==4.3.2\r\n",
      "Twisted==18.7.0\r\n",
      "Unidecode==1.0.23\r\n",
      "uritemplate==3.0.0\r\n",
      "urllib3==1.22\r\n",
      "wcwidth==0.1.7\r\n",
      "webencodings==0.5.1\r\n",
      "Werkzeug==0.15.4\r\n",
      "widgetsnbextension==3.2.1\r\n",
      "WTForms==2.2.1\r\n",
      "xgboost==0.6a2\r\n",
      "zict==0.1.3\r\n",
      "zope.deprecation==4.4.0\r\n",
      "zope.interface==4.5.0\r\n"
     ]
    }
   ],
   "source": [
    "!pip freeze"
   ]
  },
  {
   "cell_type": "code",
   "execution_count": 2,
   "metadata": {},
   "outputs": [
    {
     "data": {
      "text/html": [
       "This cell will print out a <b> HTML </b> string."
      ],
      "text/plain": [
       "<IPython.core.display.HTML object>"
      ]
     },
     "metadata": {},
     "output_type": "display_data"
    }
   ],
   "source": [
    "%html\n",
    "This cell will print out a <b> HTML </b> string."
   ]
  },
  {
   "cell_type": "code",
   "execution_count": 3,
   "metadata": {},
   "outputs": [
    {
     "name": "stdout",
     "output_type": "stream",
     "text": [
      "bigquery: error: invalid choice: 'ls' (choose from 'sample', 'create', 'delete', 'dryrun', 'udf', 'execute', 'pipeline', 'table', 'schema', 'datasets', 'tables', 'extract', 'load')\n",
      "\n"
     ]
    },
    {
     "name": "stderr",
     "output_type": "stream",
     "text": [
      "usage: bigquery [-h]\n",
      "                {sample,create,delete,dryrun,udf,execute,pipeline,table,schema,datasets,tables,extract,load}\n",
      "                ...\n",
      "\n",
      "Execute various BigQuery-related operations. Use \"%bigquery <command> -h\" for\n",
      "help on a specific command.\n",
      "\n",
      "positional arguments:\n",
      "  {sample,create,delete,dryrun,udf,execute,pipeline,table,schema,datasets,tables,extract,load}\n",
      "                        commands\n",
      "    sample              Display a sample of the results of a BigQuery SQL\n",
      "                        query. The cell can optionally contain arguments for\n",
      "                        expanding variables in the query, if -q/--query was\n",
      "                        used, or it can contain SQL for a query.\n",
      "    create              Create a dataset or table.\n",
      "    delete              Delete a dataset or table.\n",
      "    dryrun              Execute a dry run of a BigQuery query and display\n",
      "                        approximate usage statistics\n",
      "    udf                 Create a named Javascript BigQuery UDF\n",
      "    execute             Execute a BigQuery SQL query and optionally send the\n",
      "                        results to a named table. The cell can optionally\n",
      "                        contain arguments for expanding variables in the\n",
      "                        query.\n",
      "    pipeline            Define a deployable pipeline based on a BigQuery\n",
      "                        query. The cell can optionally contain arguments for\n",
      "                        expanding variables in the query.\n",
      "    table               View a BigQuery table.\n",
      "    schema              View a BigQuery table or view schema.\n",
      "    datasets            List the datasets in a BigQuery project.\n",
      "    tables              List the tables in a BigQuery project or dataset.\n",
      "    extract             Extract BigQuery query results or table to GCS.\n",
      "    load                Load data from GCS into a BigQuery table.\n",
      "\n",
      "optional arguments:\n",
      "  -h, --help            show this help message and exit\n"
     ]
    }
   ],
   "source": [
    "%bigquery ls"
   ]
  },
  {
   "cell_type": "code",
   "execution_count": 4,
   "metadata": {},
   "outputs": [
    {
     "name": "stdout",
     "output_type": "stream",
     "text": [
      "bigquery: error: unrecognized arguments: flights\n",
      "\n"
     ]
    },
    {
     "name": "stderr",
     "output_type": "stream",
     "text": [
      "usage: bigquery [-h]\n",
      "                {sample,create,delete,dryrun,udf,execute,pipeline,table,schema,datasets,tables,extract,load}\n",
      "                ...\n",
      "\n",
      "Execute various BigQuery-related operations. Use \"%bigquery <command> -h\" for\n",
      "help on a specific command.\n",
      "\n",
      "positional arguments:\n",
      "  {sample,create,delete,dryrun,udf,execute,pipeline,table,schema,datasets,tables,extract,load}\n",
      "                        commands\n",
      "    sample              Display a sample of the results of a BigQuery SQL\n",
      "                        query. The cell can optionally contain arguments for\n",
      "                        expanding variables in the query, if -q/--query was\n",
      "                        used, or it can contain SQL for a query.\n",
      "    create              Create a dataset or table.\n",
      "    delete              Delete a dataset or table.\n",
      "    dryrun              Execute a dry run of a BigQuery query and display\n",
      "                        approximate usage statistics\n",
      "    udf                 Create a named Javascript BigQuery UDF\n",
      "    execute             Execute a BigQuery SQL query and optionally send the\n",
      "                        results to a named table. The cell can optionally\n",
      "                        contain arguments for expanding variables in the\n",
      "                        query.\n",
      "    pipeline            Define a deployable pipeline based on a BigQuery\n",
      "                        query. The cell can optionally contain arguments for\n",
      "                        expanding variables in the query.\n",
      "    table               View a BigQuery table.\n",
      "    schema              View a BigQuery table or view schema.\n",
      "    datasets            List the datasets in a BigQuery project.\n",
      "    tables              List the tables in a BigQuery project or dataset.\n",
      "    extract             Extract BigQuery query results or table to GCS.\n",
      "    load                Load data from GCS into a BigQuery table.\n",
      "\n",
      "optional arguments:\n",
      "  -h, --help            show this help message and exit\n"
     ]
    }
   ],
   "source": [
    "%bigquery tables flights"
   ]
  },
  {
   "cell_type": "code",
   "execution_count": 5,
   "metadata": {},
   "outputs": [
    {
     "name": "stdout",
     "output_type": "stream",
     "text": [
      "usage: bigquery tables [-h] [-p PROJECT] [-d DATASET] [-f FILTER]\n",
      "\n",
      "List the tables in a BigQuery project or dataset.\n",
      "\n",
      "optional arguments:\n",
      "  -h, --help            show this help message and exit\n",
      "  -p PROJECT, --project PROJECT\n",
      "                        The project whose tables should be listed\n",
      "  -d DATASET, --dataset DATASET\n",
      "                        The dataset to restrict to\n",
      "  -f FILTER, --filter FILTER\n",
      "                        Optional wildcard filter string used to limit the\n",
      "                        results\n",
      "None\n"
     ]
    }
   ],
   "source": [
    "%bigquery tables --help"
   ]
  },
  {
   "cell_type": "code",
   "execution_count": 6,
   "metadata": {},
   "outputs": [
    {
     "data": {
      "text/html": [
       "<ul><li>elite-caster-125113:flights.simevents</li><li>elite-caster-125113:flights.streaming_delays</li></ul>"
      ],
      "text/plain": [
       "<IPython.core.display.HTML object>"
      ]
     },
     "execution_count": 6,
     "metadata": {},
     "output_type": "execute_result"
    }
   ],
   "source": [
    "%bigquery tables -d flights"
   ]
  },
  {
   "cell_type": "code",
   "execution_count": 7,
   "metadata": {},
   "outputs": [
    {
     "data": {
      "text/html": [
       "\n",
       "    <div class=\"bqsv\" id=\"1_157316599827\"></div>\n",
       "\n",
       "    <script src=\"/static/components/requirejs/require.js\"></script>\n",
       "    <script>\n",
       "      require.config({\n",
       "        paths: {\n",
       "          base: '/static/base',\n",
       "        },\n",
       "        map: {\n",
       "          '*': {\n",
       "            datalab: 'nbextensions/gcpdatalab'\n",
       "          }\n",
       "        },\n",
       "      });\n",
       "\n",
       "      require(['datalab/bigquery', 'datalab/element!1_157316599827',\n",
       "          'datalab/style!/nbextensions/gcpdatalab/bigquery.css'],\n",
       "        function(bq, dom) {\n",
       "          bq.renderSchema(dom, [{\"mode\": \"NULLABLE\", \"type\": \"DATE\", \"name\": \"FL_DATE\"}, {\"mode\": \"NULLABLE\", \"type\": \"STRING\", \"name\": \"OP_UNIQUE_CARRIER\"}, {\"mode\": \"NULLABLE\", \"type\": \"STRING\", \"name\": \"OP_CARRIER_AIRLINE_ID\"}, {\"mode\": \"NULLABLE\", \"type\": \"STRING\", \"name\": \"OP_CARRIER\"}, {\"mode\": \"NULLABLE\", \"type\": \"STRING\", \"name\": \"OP_CARRIER_FL_NUM\"}, {\"mode\": \"NULLABLE\", \"type\": \"STRING\", \"name\": \"ORIGIN_AIRPORT_ID\"}, {\"mode\": \"NULLABLE\", \"type\": \"INTEGER\", \"name\": \"ORIGIN_AIRPORT_SEQ_ID\"}, {\"mode\": \"NULLABLE\", \"type\": \"STRING\", \"name\": \"ORIGIN_CITY_MARKET_ID\"}, {\"mode\": \"NULLABLE\", \"type\": \"STRING\", \"name\": \"ORIGIN\"}, {\"mode\": \"NULLABLE\", \"type\": \"STRING\", \"name\": \"DEST_AIRPORT_ID\"}, {\"mode\": \"NULLABLE\", \"type\": \"INTEGER\", \"name\": \"DEST_AIRPORT_SEQ_ID\"}, {\"mode\": \"NULLABLE\", \"type\": \"STRING\", \"name\": \"DEST_CITY_MARKET_ID\"}, {\"mode\": \"NULLABLE\", \"type\": \"STRING\", \"name\": \"DEST\"}, {\"mode\": \"NULLABLE\", \"type\": \"TIMESTAMP\", \"name\": \"CRS_DEP_TIME\"}, {\"mode\": \"NULLABLE\", \"type\": \"TIMESTAMP\", \"name\": \"DEP_TIME\"}, {\"mode\": \"NULLABLE\", \"type\": \"FLOAT\", \"name\": \"DEP_DELAY\"}, {\"mode\": \"NULLABLE\", \"type\": \"FLOAT\", \"name\": \"TAXI_OUT\"}, {\"mode\": \"NULLABLE\", \"type\": \"TIMESTAMP\", \"name\": \"WHEELS_OFF\"}, {\"mode\": \"NULLABLE\", \"type\": \"TIMESTAMP\", \"name\": \"WHEELS_ON\"}, {\"mode\": \"NULLABLE\", \"type\": \"FLOAT\", \"name\": \"TAXI_IN\"}, {\"mode\": \"NULLABLE\", \"type\": \"TIMESTAMP\", \"name\": \"CRS_ARR_TIME\"}, {\"mode\": \"NULLABLE\", \"type\": \"TIMESTAMP\", \"name\": \"ARR_TIME\"}, {\"mode\": \"NULLABLE\", \"type\": \"FLOAT\", \"name\": \"ARR_DELAY\"}, {\"mode\": \"NULLABLE\", \"type\": \"STRING\", \"name\": \"CANCELLED\"}, {\"mode\": \"NULLABLE\", \"type\": \"STRING\", \"name\": \"CANCELLATION_CODE\"}, {\"mode\": \"NULLABLE\", \"type\": \"STRING\", \"name\": \"DIVERTED\"}, {\"mode\": \"NULLABLE\", \"type\": \"FLOAT\", \"name\": \"DISTANCE\"}, {\"mode\": \"NULLABLE\", \"type\": \"FLOAT\", \"name\": \"DEP_AIRPORT_LAT\"}, {\"mode\": \"NULLABLE\", \"type\": \"FLOAT\", \"name\": \"DEP_AIRPORT_LON\"}, {\"mode\": \"NULLABLE\", \"type\": \"FLOAT\", \"name\": \"DEP_AIRPORT_TZOFFSET\"}, {\"mode\": \"NULLABLE\", \"type\": \"FLOAT\", \"name\": \"ARR_AIRPORT_LAT\"}, {\"mode\": \"NULLABLE\", \"type\": \"FLOAT\", \"name\": \"ARR_AIRPORT_LON\"}, {\"mode\": \"NULLABLE\", \"type\": \"FLOAT\", \"name\": \"ARR_AIRPORT_TZOFFSET\"}, {\"mode\": \"NULLABLE\", \"type\": \"STRING\", \"name\": \"EVENT\"}, {\"mode\": \"NULLABLE\", \"type\": \"TIMESTAMP\", \"name\": \"NOTIFY_TIME\"}, {\"mode\": \"NULLABLE\", \"type\": \"STRING\", \"name\": \"EVENT_DATA\"}]);\n",
       "        }\n",
       "      );\n",
       "    </script>\n",
       "    "
      ],
      "text/plain": [
       "<IPython.core.display.HTML object>"
      ]
     },
     "execution_count": 7,
     "metadata": {},
     "output_type": "execute_result"
    }
   ],
   "source": [
    "%bigquery schema --table flights.simevents"
   ]
  },
  {
   "cell_type": "code",
   "execution_count": 8,
   "metadata": {},
   "outputs": [
    {
     "name": "stdout",
     "output_type": "stream",
     "text": [
      "\n",
      "\n",
      "Updates are available for some Cloud SDK components.  To install them,\n",
      "please run:\n",
      "  $ gcloud components update\n",
      "\n",
      "  datasetId  \n",
      " ----------- \n",
      "  elastic    \n",
      "  flights    \n",
      "  samples    \n"
     ]
    }
   ],
   "source": [
    "!bq ls"
   ]
  },
  {
   "cell_type": "code",
   "execution_count": null,
   "metadata": {},
   "outputs": [],
   "source": []
  }
 ],
 "metadata": {
  "kernelspec": {
   "display_name": "Python 3",
   "language": "python",
   "name": "python3"
  },
  "language_info": {
   "codemirror_mode": {
    "name": "ipython",
    "version": 3
   },
   "file_extension": ".py",
   "mimetype": "text/x-python",
   "name": "python",
   "nbconvert_exporter": "python",
   "pygments_lexer": "ipython3",
   "version": "3.5.6"
  }
 },
 "nbformat": 4,
 "nbformat_minor": 2
}
