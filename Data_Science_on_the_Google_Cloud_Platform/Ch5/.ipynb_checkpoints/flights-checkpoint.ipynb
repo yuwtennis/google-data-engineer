{
 "cells": [
  {
   "cell_type": "code",
   "execution_count": 14,
   "metadata": {},
   "outputs": [
    {
     "name": "stdout",
     "output_type": "stream",
     "text": [
      "Collecting sns\n",
      "  Downloading https://files.pythonhosted.org/packages/58/80/d5a2a12fae635474014e7e0c88959daab3bf815648250fbb7639dd02fe50/sns-0.1.tar.gz\n",
      "Building wheels for collected packages: sns\n",
      "  Running setup.py bdist_wheel for sns: started\n",
      "  Running setup.py bdist_wheel for sns: finished with status 'done'\n",
      "  Stored in directory: /content/.cache/pip/wheels/be/a5/d8/4390400ed430c8186a6af96dbb1cc7d0a00a5dee15d268b627\n",
      "Successfully built sns\n",
      "Installing collected packages: sns\n",
      "Successfully installed sns-0.1\n"
     ]
    }
   ],
   "source": [
    "%bash\n",
    "pip install sns"
   ]
  },
  {
   "cell_type": "code",
   "execution_count": 3,
   "metadata": {},
   "outputs": [],
   "source": [
    "import matplotlib.pyplot as plt\n",
    "import seaborn as sb\n",
    "import pandas as pd\n",
    "import numpy as np\n",
    "import google.datalab.bigquery as bq"
   ]
  },
  {
   "cell_type": "code",
   "execution_count": 1,
   "metadata": {},
   "outputs": [
    {
     "name": "stdout",
     "output_type": "stream",
     "text": [
      "\n",
      "\n",
      "Updates are available for some Cloud SDK components.  To install them,\n",
      "please run:\n",
      "  $ gcloud components update\n",
      "\n",
      "Waiting on bqjob_r4bb5e7289a4eac90_0000016f77f36b00_1 ... (15s) Current status: DONE   \n",
      "+--------+\n",
      "|  f0_   |\n",
      "+--------+\n",
      "| 235208 |\n",
      "+--------+\n",
      "Waiting on bqjob_r45fc03ce5888eef1_0000016f77f3b31e_1 ... (15s) Current status: DONE   \n",
      "+------+\n",
      "| f0_  |\n",
      "+------+\n",
      "| 2310 |\n",
      "+------+\n"
     ]
    }
   ],
   "source": [
    "#\n",
    "# Count number of rows \n",
    "#\n",
    "!bq query \"SELECT COUNT(DEP_DELAY) FROM flights.fedtzcorr\""
   ]
  },
  {
   "cell_type": "code",
   "execution_count": 2,
   "metadata": {},
   "outputs": [
    {
     "name": "stdout",
     "output_type": "stream",
     "text": [
      "Waiting on bqjob_r31c9813dee97e7ce_0000016f77faf0c5_1 ... (14s) Current status: DONE   \n",
      "+-------+\n",
      "|  f0_  |\n",
      "+-------+\n",
      "| 23312 |\n",
      "+-------+\n"
     ]
    }
   ],
   "source": [
    "!bq query \"SELECT COUNT(DEP_DELAY) FROM flights.fedtzcorr WHERE RAND() < 0.1\""
   ]
  },
  {
   "cell_type": "code",
   "execution_count": 6,
   "metadata": {},
   "outputs": [
    {
     "data": {
      "text/html": [
       "<div>\n",
       "<style scoped>\n",
       "    .dataframe tbody tr th:only-of-type {\n",
       "        vertical-align: middle;\n",
       "    }\n",
       "\n",
       "    .dataframe tbody tr th {\n",
       "        vertical-align: top;\n",
       "    }\n",
       "\n",
       "    .dataframe thead th {\n",
       "        text-align: right;\n",
       "    }\n",
       "</style>\n",
       "<table border=\"1\" class=\"dataframe\">\n",
       "  <thead>\n",
       "    <tr style=\"text-align: right;\">\n",
       "      <th></th>\n",
       "      <th>ARR_DELAY</th>\n",
       "      <th>DEP_DELAY</th>\n",
       "    </tr>\n",
       "  </thead>\n",
       "  <tbody>\n",
       "    <tr>\n",
       "      <th>count</th>\n",
       "      <td>1696.000000</td>\n",
       "      <td>1703.000000</td>\n",
       "    </tr>\n",
       "    <tr>\n",
       "      <th>mean</th>\n",
       "      <td>-8.790094</td>\n",
       "      <td>-2.825602</td>\n",
       "    </tr>\n",
       "    <tr>\n",
       "      <th>std</th>\n",
       "      <td>14.193963</td>\n",
       "      <td>4.820954</td>\n",
       "    </tr>\n",
       "    <tr>\n",
       "      <th>min</th>\n",
       "      <td>-57.000000</td>\n",
       "      <td>-24.000000</td>\n",
       "    </tr>\n",
       "    <tr>\n",
       "      <th>25%</th>\n",
       "      <td>-17.000000</td>\n",
       "      <td>-6.000000</td>\n",
       "    </tr>\n",
       "    <tr>\n",
       "      <th>50%</th>\n",
       "      <td>-10.000000</td>\n",
       "      <td>-3.000000</td>\n",
       "    </tr>\n",
       "    <tr>\n",
       "      <th>75%</th>\n",
       "      <td>-2.000000</td>\n",
       "      <td>0.000000</td>\n",
       "    </tr>\n",
       "    <tr>\n",
       "      <th>max</th>\n",
       "      <td>118.000000</td>\n",
       "      <td>9.000000</td>\n",
       "    </tr>\n",
       "  </tbody>\n",
       "</table>\n",
       "</div>"
      ],
      "text/plain": [
       "         ARR_DELAY    DEP_DELAY\n",
       "count  1696.000000  1703.000000\n",
       "mean     -8.790094    -2.825602\n",
       "std      14.193963     4.820954\n",
       "min     -57.000000   -24.000000\n",
       "25%     -17.000000    -6.000000\n",
       "50%     -10.000000    -3.000000\n",
       "75%      -2.000000     0.000000\n",
       "max     118.000000     9.000000"
      ]
     },
     "execution_count": 6,
     "metadata": {},
     "output_type": "execute_result"
    }
   ],
   "source": [
    "#\n",
    "# Second query selects random rows 1% of which departure delay is below 10 minutes \n",
    "#\n",
    "\n",
    "sql2 = \"\"\"\n",
    "SELECT ARR_DELAY, DEP_DELAY\n",
    "FROM `flights.fedtzcorr`\n",
    "WHERE DEP_DELAY < 10 AND RAND() < 0.01\n",
    "\"\"\"\n",
    "\n",
    "df = bq.Query(sql2).execute().result().to_dataframe()\n",
    "\n",
    "df.describe()"
   ]
  },
  {
   "cell_type": "markdown",
   "metadata": {},
   "source": [
    "# Violin Plot"
   ]
  },
  {
   "cell_type": "code",
   "execution_count": 7,
   "metadata": {},
   "outputs": [
    {
     "name": "stderr",
     "output_type": "stream",
     "text": [
      "/usr/local/envs/py3env/lib/python3.5/site-packages/seaborn/categorical.py:584: FutureWarning: remove_na is deprecated and is a private function. Do not use.\n",
      "  kde_data = remove_na(group_data)\n",
      "/usr/local/envs/py3env/lib/python3.5/site-packages/seaborn/categorical.py:812: FutureWarning: remove_na is deprecated and is a private function. Do not use.\n",
      "  violin_data = remove_na(group_data)\n",
      "/usr/local/envs/py3env/lib/python3.5/site-packages/matplotlib/font_manager.py:1320: UserWarning: findfont: Font family ['sans-serif'] not found. Falling back to DejaVu Sans\n",
      "  (prop.get_family(), self.defaultFamily[fontext]))\n"
     ]
    },
    {
     "data": {
      "image/png": "[encoded data removed]",
      "text/plain": [
       "<matplotlib.figure.Figure at 0x7ff8b899d320>"
      ]
     },
     "metadata": {},
     "output_type": "display_data"
    }
   ],
   "source": [
    "sb.set_style(\"whitegrid\")\n",
    "ax = sb.violinplot(data=df, x='ARR_DELAY', inner='box', orient='h')"
   ]
  },
  {
   "cell_type": "markdown",
   "metadata": {},
   "source": [
    "# Comparing violin plot for flights depart delay 10min< and <10min"
   ]
  },
  {
   "cell_type": "code",
   "execution_count": 14,
   "metadata": {},
   "outputs": [
    {
     "name": "stderr",
     "output_type": "stream",
     "text": [
      "/usr/local/envs/py3env/lib/python3.5/site-packages/seaborn/categorical.py:584: FutureWarning: remove_na is deprecated and is a private function. Do not use.\n",
      "  kde_data = remove_na(group_data)\n",
      "/usr/local/envs/py3env/lib/python3.5/site-packages/seaborn/categorical.py:812: FutureWarning: remove_na is deprecated and is a private function. Do not use.\n",
      "  violin_data = remove_na(group_data)\n"
     ]
    },
    {
     "data": {
      "text/plain": [
       "(-50, 200)"
      ]
     },
     "execution_count": 14,
     "metadata": {},
     "output_type": "execute_result"
    },
    {
     "name": "stderr",
     "output_type": "stream",
     "text": [
      "/usr/local/envs/py3env/lib/python3.5/site-packages/matplotlib/font_manager.py:1320: UserWarning: findfont: Font family ['sans-serif'] not found. Falling back to DejaVu Sans\n",
      "  (prop.get_family(), self.defaultFamily[fontext]))\n"
     ]
    },
    {
     "data": {
      "image/png": "[encoded data removed]",
      "text/plain": [
       "<matplotlib.figure.Figure at 0x7ff8b833c8d0>"
      ]
     },
     "metadata": {},
     "output_type": "display_data"
    }
   ],
   "source": [
    "#\n",
    "# Pull random 1% data from the dataset\n",
    "#\n",
    "\n",
    "sql = \"\"\"\n",
    "SELECT ARR_DELAY, DEP_DELAY\n",
    "FROM `flights.fedtzcorr`\n",
    "WHERE RAND() < 0.001\n",
    "\"\"\"\n",
    "\n",
    "df = bq.Query(sql).execute().result().to_dataframe()\n",
    "\n",
    "df['ontime'] = df['DEP_DELAY'] < 10\n",
    "\n",
    "sb.set_style(\"whitegrid\")\n",
    "ax = sb.violinplot(data=df, x='ARR_DELAY', y='ontime', inner='box', orient='h', gridsize=1000)\n",
    "ax.set_xlim(-50, 200)"
   ]
  },
  {
   "cell_type": "code",
   "execution_count": 9,
   "metadata": {},
   "outputs": [
    {
     "name": "stdout",
     "output_type": "stream",
     "text": [
      "Threshold on numflights: 1000, num_removed: 41584, lm: -40.90971277004159\n",
      "Threshold on numflights: 500, num_removed: 28079, lm: -1.984851368413238\n",
      "Threshold on numflights: 370, num_removed: 22050, lm: -0.8626992250329018\n",
      "Threshold on numflights: 200, num_removed: 22050, lm: -0.8626992250329018\n",
      "Threshold on numflights: 100, num_removed: 22050, lm: -0.8626992250329018\n",
      "Threshold on numflights: 22, num_removed: 22050, lm: -0.8626992250329018\n",
      "Threshold on numflights: 10, num_removed: 22050, lm: -0.8626992250329018\n",
      "Threshold on numflights: 5, num_removed: 22050, lm: -0.8626992250329018\n"
     ]
    }
   ],
   "source": [
    "# Calculating linear model\n",
    "quality_controll_tholds = [1000, 500, 370, 200, 100, 22, 10, 5]\n",
    "\n",
    "for t in quality_controll_tholds:\n",
    "  sql = \"\"\"\n",
    "  SELECT \n",
    "    235208 - SUM(numflights) AS num_removed,\n",
    "    # 期待値の平均から計算\n",
    "    AVG(arrival_delay * numflights)/AVG(DEP_DELAY * numflights) AS lm \n",
    "  FROM (\n",
    "    SELECT\n",
    "      DEP_DELAY,\n",
    "      AVG(ARR_DELAY) AS arrival_delay,\n",
    "      STDDEV(ARR_DELAY) AS stddev_arrival_delay,\n",
    "      COUNT(ARR_DELAY) AS numflights\n",
    "    FROM\n",
    "      `flights.fedtzcorr`\n",
    "    GROUP BY\n",
    "      DEP_DELAY\n",
    "    HAVING\n",
    "      numflights > 370\n",
    "    ORDER BY\n",
    "      DEP_DELAY\n",
    "  )\n",
    "  WHERE numflights > {0}\n",
    "  \"\"\".format(t)\n",
    "\n",
    "  df = bq.Query(sql).execute().result().to_dataframe()\n",
    "\n",
    "  print(\"Threshold on numflights: {0}, num_removed: {1}, lm: {2}\".format(t, df['num_removed'][0], df['lm'][0] ))"
   ]
  }
 ],
 "metadata": {
  "kernelspec": {
   "display_name": "Python 3",
   "language": "python",
   "name": "python3"
  },
  "language_info": {
   "codemirror_mode": {
    "name": "ipython",
    "version": 3
   },
   "file_extension": ".py",
   "mimetype": "text/x-python",
   "name": "python",
   "nbconvert_exporter": "python",
   "pygments_lexer": "ipython3",
   "version": "3.5.6"
  }
 },
 "nbformat": 4,
 "nbformat_minor": 2
}
